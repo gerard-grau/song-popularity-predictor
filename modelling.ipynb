{
 "cells": [
  {
   "cell_type": "markdown",
   "metadata": {},
   "source": [
    "ta\n"
   ]
  },
  {
   "cell_type": "markdown",
   "metadata": {},
   "source": [
    "# Modelització"
   ]
  },
  {
   "cell_type": "code",
   "execution_count": 1,
   "metadata": {},
   "outputs": [],
   "source": [
    "import numpy as np\n",
    "import pandas as pd\n",
    "import matplotlib.pyplot as plt\n",
    "import seaborn as sns\n",
    "from scipy.stats import boxcox\n",
    "from sklearn import preprocessing"
   ]
  },
  {
   "cell_type": "code",
   "execution_count": 2,
   "metadata": {},
   "outputs": [],
   "source": [
    "from sklearn.model_selection import train_test_split,  KFold, cross_val_score, GridSearchCV\n",
    "from sklearn.linear_model import LinearRegression, Ridge, RidgeCV, Lasso, LassoCV\n",
    "from sklearn.metrics import mean_squared_error, r2_score, confusion_matrix, accuracy_score, f1_score, explained_variance_score\n",
    "from sklearn.tree import DecisionTreeRegressor\n",
    "from sklearn.ensemble import RandomForestRegressor\n"
   ]
  },
  {
   "cell_type": "code",
   "execution_count": 3,
   "metadata": {},
   "outputs": [],
   "source": [
    "st_songs = pd.read_csv('standarized_songs.csv', index_col=0)"
   ]
  },
  {
   "cell_type": "markdown",
   "metadata": {},
   "source": [
    "*** QUEDA FER ESCALAT CORRECTE AMB EL X_TRAIN I Y_TRAIN ***"
   ]
  },
  {
   "cell_type": "markdown",
   "metadata": {},
   "source": [
    "### Training i test split"
   ]
  },
  {
   "cell_type": "code",
   "execution_count": 9,
   "metadata": {},
   "outputs": [],
   "source": [
    "X = st_songs.drop(columns = {'popularity'}).iloc[:,2:]\n",
    "y = st_songs['popularity']\n",
    "\n",
    "X_train, X_test, y_train, y_test = train_test_split(X, y, test_size=0.25, random_state=42)"
   ]
  },
  {
   "cell_type": "code",
   "execution_count": null,
   "metadata": {},
   "outputs": [],
   "source": []
  },
  {
   "cell_type": "markdown",
   "metadata": {},
   "source": [
    "## Model Lineal"
   ]
  },
  {
   "cell_type": "code",
   "execution_count": 10,
   "metadata": {},
   "outputs": [
    {
     "name": "stdout",
     "output_type": "stream",
     "text": [
      "Coeficients\n",
      "track_number -0.012789366309592758\n",
      "acousticness 0.005238372324209678\n",
      "danceability -0.02179810733184065\n",
      "energy 0.025724008231123745\n",
      "liveness -0.004727928459368625\n",
      "loudness 0.07527253933331042\n",
      "tempo -0.026382557838695808\n",
      "valence 0.020018070867257338\n",
      "duration 0.04913998827196136\n",
      "taylors_version 0.07609417165403644\n",
      "performed_live -0.18474302031148165\n",
      "not_first_release -0.07537170126581451\n",
      "low_instrumentalness -0.011284737927421594\n",
      "medium_instrumentalness -0.009083307494508332\n",
      "spoken_section -0.015492947281437042\n",
      "Live From Clear Channel Stripped 2008 -0.11413639453469111\n",
      "Taylor Swift -0.06119650471325041\n",
      "Speak Now (Taylor's Version) 0.01683226309335387\n",
      "1989 -0.05686544859567671\n",
      "Speak Now -0.11015515292915105\n",
      "reputation Stadium Tour Surprise Song Playlist -0.0943001403108766\n",
      "Red (Taylor's Version) 0.010046500081230994\n",
      "evermore 0.09847607054483558\n",
      "Fearless (Taylor's Version) -0.01571955301391503\n",
      "Midnights 0.14209210362992078\n",
      "folklore 0.07448180169231186\n",
      "Fearless -0.1549420760590557\n",
      "Red -0.16294044983410474\n",
      "1989 (Taylor's Version) 0.06493496149336742\n",
      "Speak Now World Tour Live 0.023693514534082506\n",
      "Lover 0.1714643414095329\n",
      "reputation 0.1682341635120864\n",
      "Intercept: \n",
      " 0.5940256357830579\n"
     ]
    }
   ],
   "source": [
    "# We instantiate a linear regression. \n",
    "lr = LinearRegression()\n",
    "\n",
    "# Now we train it on train data with fit method\n",
    "lr.fit(X_train,y_train)\n",
    "\n",
    "# We can predict using the predict method\n",
    "y_pred = lr.predict(X_train)\n",
    "\n",
    "weights = lr.coef_\n",
    "intercept = lr.intercept_\n",
    "# You can access to some info about the model, like the weights.\n",
    "print('Coeficients')\n",
    "for x, y in zip(X.columns, weights[:]):\n",
    "    print(x, y)\n",
    "print('Intercept: \\n', intercept)"
   ]
  },
  {
   "cell_type": "code",
   "execution_count": 11,
   "metadata": {},
   "outputs": [
    {
     "name": "stdout",
     "output_type": "stream",
     "text": [
      "Live From Clear Channel Stripped 2008 -0.11413639453469111\n",
      "Taylor Swift -0.06119650471325041\n",
      "Speak Now (Taylor's Version) 0.01683226309335387\n",
      "1989 -0.05686544859567671\n",
      "Speak Now -0.11015515292915105\n",
      "reputation Stadium Tour Surprise Song Playlist -0.0943001403108766\n",
      "Red (Taylor's Version) 0.010046500081230994\n",
      "evermore 0.09847607054483558\n",
      "Fearless (Taylor's Version) -0.01571955301391503\n",
      "Midnights 0.14209210362992078\n",
      "folklore 0.07448180169231186\n",
      "Fearless -0.1549420760590557\n",
      "Red -0.16294044983410474\n",
      "1989 (Taylor's Version) 0.06493496149336742\n",
      "Speak Now World Tour Live 0.023693514534082506\n",
      "Lover 0.1714643414095329\n",
      "reputation 0.1682341635120864\n",
      "Intercept: \n",
      " 0.5940256357830579\n"
     ]
    }
   ],
   "source": [
    "### Molt important veure quins són els pesos dels coeficients 'album', ja que quan predim no en posarem ###\n",
    "\n",
    "album_weights = weights[15:]\n",
    "\n",
    "for x, y in zip(X.columns[15:], album_weights):\n",
    "    print(x, y)\n",
    "print('Intercept: \\n', intercept)\n"
   ]
  },
  {
   "cell_type": "code",
   "execution_count": 12,
   "metadata": {},
   "outputs": [
    {
     "data": {
      "text/plain": [
       "([0, 1, 2, 3, 4, 5, 6, 7, 8, 9, 10, 11, 12, 13, 14, 15, 16],\n",
       " [Text(0, 0, 'Live From Clear Channel Stripped 2008'),\n",
       "  Text(1, 0, 'Taylor Swift'),\n",
       "  Text(2, 0, \"Speak Now (Taylor's Version)\"),\n",
       "  Text(3, 0, '1989'),\n",
       "  Text(4, 0, 'Speak Now'),\n",
       "  Text(5, 0, 'reputation Stadium Tour Surprise Song Playlist'),\n",
       "  Text(6, 0, \"Red (Taylor's Version)\"),\n",
       "  Text(7, 0, 'evermore'),\n",
       "  Text(8, 0, \"Fearless (Taylor's Version)\"),\n",
       "  Text(9, 0, 'Midnights'),\n",
       "  Text(10, 0, 'folklore'),\n",
       "  Text(11, 0, 'Fearless'),\n",
       "  Text(12, 0, 'Red'),\n",
       "  Text(13, 0, \"1989 (Taylor's Version)\"),\n",
       "  Text(14, 0, 'Speak Now World Tour Live'),\n",
       "  Text(15, 0, 'Lover'),\n",
       "  Text(16, 0, 'reputation')])"
      ]
     },
     "execution_count": 12,
     "metadata": {},
     "output_type": "execute_result"
    },
    {
     "data": {
      "image/png": "[encoded data removed]",
      "text/plain": [
       "<Figure size 640x480 with 1 Axes>"
      ]
     },
     "metadata": {},
     "output_type": "display_data"
    }
   ],
   "source": [
    "plt.bar(X.columns[15:], album_weights)\n",
    "plt.xticks(rotation=90)"
   ]
  },
  {
   "cell_type": "markdown",
   "metadata": {},
   "source": [
    "Veiem que els àlbums més recents (Midnights, evermore, folklore, Lover)..."
   ]
  },
  {
   "cell_type": "code",
   "execution_count": 13,
   "metadata": {},
   "outputs": [
    {
     "name": "stdout",
     "output_type": "stream",
     "text": [
      "362    0.015427\n",
      "56     0.075635\n",
      "203   -0.035110\n",
      "272    0.000570\n",
      "435    0.021085\n",
      "         ...   \n",
      "71    -0.027932\n",
      "106   -0.049720\n",
      "270    0.073793\n",
      "438    0.005459\n",
      "102   -0.010368\n",
      "Name: popularity, Length: 395, dtype: float64\n"
     ]
    },
    {
     "data": {
      "image/png": "[encoded data removed]",
      "text/plain": [
       "<Figure size 640x480 with 1 Axes>"
      ]
     },
     "metadata": {},
     "output_type": "display_data"
    }
   ],
   "source": [
    "naive_prediction_error = y_train - y_pred\n",
    "print(naive_prediction_error)\n",
    "\n",
    "plt.scatter(y_train, naive_prediction_error)\n",
    "plt.show()"
   ]
  },
  {
   "cell_type": "code",
   "execution_count": 14,
   "metadata": {},
   "outputs": [
    {
     "data": {
      "text/plain": [
       "0.003368510829257281"
      ]
     },
     "execution_count": 14,
     "metadata": {},
     "output_type": "execute_result"
    }
   ],
   "source": [
    "mse = mean_squared_error(y_train, y_pred)\n",
    "mse"
   ]
  },
  {
   "cell_type": "code",
   "execution_count": 15,
   "metadata": {},
   "outputs": [
    {
     "data": {
      "text/plain": [
       "(0.14893040156029014, 0.8510695984397099)"
      ]
     },
     "execution_count": 15,
     "metadata": {},
     "output_type": "execute_result"
    }
   ],
   "source": [
    "R_squared = r2_score(y_train, y_pred)\n",
    "norm_mse_sk = 1 - R_squared\n",
    "norm_mse_sk, R_squared\n"
   ]
  },
  {
   "cell_type": "markdown",
   "metadata": {},
   "source": [
    "Cross validation"
   ]
  },
  {
   "cell_type": "code",
   "execution_count": 16,
   "metadata": {},
   "outputs": [
    {
     "name": "stdout",
     "output_type": "stream",
     "text": [
      "0.8248614543729408\n",
      "[0.80725982 0.84153015 0.84190578 0.80317552 0.81869733 0.89415637\n",
      " 0.80165964 0.7462441  0.90533758 0.78864825]\n"
     ]
    }
   ],
   "source": [
    "from sklearn.model_selection import LeaveOneOut\n",
    "\n",
    "N = len(X_train)\n",
    "\n",
    "lr_cv = LinearRegression()\n",
    "lr_cv.fit(X_train, y_train)\n",
    "folds_r2 = cross_val_score(lr_cv, X_train, y_train, cv = 10, scoring='r2')\n",
    "lr_r2 = np.mean(folds_r2)\n",
    "print(lr_r2)\n",
    "print(folds_r2)"
   ]
  },
  {
   "cell_type": "markdown",
   "metadata": {},
   "source": [
    "Veiem que el model lineal de moment explica molta variablitat."
   ]
  },
  {
   "cell_type": "markdown",
   "metadata": {},
   "source": [
    "#### Regularització"
   ]
  },
  {
   "cell_type": "markdown",
   "metadata": {},
   "source": [
    "Ridge:"
   ]
  },
  {
   "cell_type": "code",
   "execution_count": 17,
   "metadata": {},
   "outputs": [],
   "source": [
    "lambdas = [1e-10,1e-5, 1e-4,1e-4,1e-3, 1e-2, 1e-1, 0.2, 0.3, 0.5, 0.7, 0.8, 1, 2, 10, 100, 200]"
   ]
  },
  {
   "cell_type": "code",
   "execution_count": 21,
   "metadata": {},
   "outputs": [
    {
     "name": "stdout",
     "output_type": "stream",
     "text": [
      "Best Lambda: 0.3\n",
      "R2 SCORE:  0.8255419258432374\n"
     ]
    }
   ],
   "source": [
    "ridge_cv = RidgeCV(alphas=lambdas, cv = 10)\n",
    "ridge_cv.fit(X_train, y_train)\n",
    "print('Best Lambda:', ridge_cv.alpha_)\n",
    "print('R2 SCORE: ', ridge_cv.best_score_)"
   ]
  },
  {
   "cell_type": "code",
   "execution_count": 22,
   "metadata": {},
   "outputs": [
    {
     "data": {
      "text/plain": [
       "array([0.00014781, 0.00073744, 0.0019579 , 0.00428171, 0.00017739,\n",
       "       0.01619019, 0.00039551, 0.00301753, 0.01054862, 0.0009237 ,\n",
       "       0.00406092, 0.000327  , 0.00182455, 0.00105122, 0.00161002,\n",
       "       0.00899433, 0.00395356, 0.00245931, 0.00068846, 0.00478543,\n",
       "       0.00067601, 0.00031872, 0.00258547, 0.00072539, 0.00481954,\n",
       "       0.00208346, 0.00376589, 0.00183016, 0.00257973, 0.00425739,\n",
       "       0.00472573, 0.00579393])"
      ]
     },
     "execution_count": 22,
     "metadata": {},
     "output_type": "execute_result"
    }
   ],
   "source": [
    "abs(ridge_cv.coef_ - lr.coef_)"
   ]
  },
  {
   "cell_type": "markdown",
   "metadata": {},
   "source": [
    "No hi ha hagut massa diferència"
   ]
  },
  {
   "cell_type": "markdown",
   "metadata": {},
   "source": [
    "#### Lasso"
   ]
  },
  {
   "cell_type": "markdown",
   "metadata": {},
   "source": [
    "Ridge:"
   ]
  },
  {
   "cell_type": "code",
   "execution_count": 23,
   "metadata": {},
   "outputs": [],
   "source": [
    "lambdas = [1e-10,1e-5, 1e-4,1e-4,1e-3, 1e-2, 1e-1, 0.2, 0.3, 0.5, 0.7, 0.8, 1, 2, 10, 100, 200]"
   ]
  },
  {
   "cell_type": "code",
   "execution_count": 24,
   "metadata": {},
   "outputs": [
    {
     "name": "stdout",
     "output_type": "stream",
     "text": [
      "Best Lambda: 0.0001\n",
      "R2 SCORE:  0.8503547295953455\n"
     ]
    },
    {
     "name": "stderr",
     "output_type": "stream",
     "text": [
      "C:\\Users\\mique\\AppData\\Local\\Packages\\PythonSoftwareFoundation.Python.3.11_qbz5n2kfra8p0\\LocalCache\\local-packages\\Python311\\site-packages\\sklearn\\linear_model\\_coordinate_descent.py:664: ConvergenceWarning: Objective did not converge. You might want to increase the number of iterations. Duality gap: 0.03133378952442001, tolerance: 0.0008015717183098591\n",
      "  model = cd_fast.enet_coordinate_descent_gram(\n",
      "C:\\Users\\mique\\AppData\\Local\\Packages\\PythonSoftwareFoundation.Python.3.11_qbz5n2kfra8p0\\LocalCache\\local-packages\\Python311\\site-packages\\sklearn\\linear_model\\_coordinate_descent.py:664: ConvergenceWarning: Objective did not converge. You might want to increase the number of iterations. Duality gap: 0.004694876642117318, tolerance: 0.000792597915492958\n",
      "  model = cd_fast.enet_coordinate_descent_gram(\n",
      "C:\\Users\\mique\\AppData\\Local\\Packages\\PythonSoftwareFoundation.Python.3.11_qbz5n2kfra8p0\\LocalCache\\local-packages\\Python311\\site-packages\\sklearn\\linear_model\\_coordinate_descent.py:664: ConvergenceWarning: Objective did not converge. You might want to increase the number of iterations. Duality gap: 0.005189742920740814, tolerance: 0.0008152198309859154\n",
      "  model = cd_fast.enet_coordinate_descent_gram(\n",
      "C:\\Users\\mique\\AppData\\Local\\Packages\\PythonSoftwareFoundation.Python.3.11_qbz5n2kfra8p0\\LocalCache\\local-packages\\Python311\\site-packages\\sklearn\\linear_model\\_coordinate_descent.py:664: ConvergenceWarning: Objective did not converge. You might want to increase the number of iterations. Duality gap: 0.0053149672766725775, tolerance: 0.0007862651830985917\n",
      "  model = cd_fast.enet_coordinate_descent_gram(\n",
      "C:\\Users\\mique\\AppData\\Local\\Packages\\PythonSoftwareFoundation.Python.3.11_qbz5n2kfra8p0\\LocalCache\\local-packages\\Python311\\site-packages\\sklearn\\linear_model\\_coordinate_descent.py:664: ConvergenceWarning: Objective did not converge. You might want to increase the number of iterations. Duality gap: 0.0051570581030273566, tolerance: 0.000778533971830986\n",
      "  model = cd_fast.enet_coordinate_descent_gram(\n",
      "C:\\Users\\mique\\AppData\\Local\\Packages\\PythonSoftwareFoundation.Python.3.11_qbz5n2kfra8p0\\LocalCache\\local-packages\\Python311\\site-packages\\sklearn\\linear_model\\_coordinate_descent.py:664: ConvergenceWarning: Objective did not converge. You might want to increase the number of iterations. Duality gap: 0.005409604638888066, tolerance: 0.0008141818820224721\n",
      "  model = cd_fast.enet_coordinate_descent_gram(\n",
      "C:\\Users\\mique\\AppData\\Local\\Packages\\PythonSoftwareFoundation.Python.3.11_qbz5n2kfra8p0\\LocalCache\\local-packages\\Python311\\site-packages\\sklearn\\linear_model\\_coordinate_descent.py:664: ConvergenceWarning: Objective did not converge. You might want to increase the number of iterations. Duality gap: 0.004578847005099362, tolerance: 0.0008146719101123598\n",
      "  model = cd_fast.enet_coordinate_descent_gram(\n",
      "C:\\Users\\mique\\AppData\\Local\\Packages\\PythonSoftwareFoundation.Python.3.11_qbz5n2kfra8p0\\LocalCache\\local-packages\\Python311\\site-packages\\sklearn\\linear_model\\_coordinate_descent.py:664: ConvergenceWarning: Objective did not converge. You might want to increase the number of iterations. Duality gap: 0.004388071194863841, tolerance: 0.0008100636797752807\n",
      "  model = cd_fast.enet_coordinate_descent_gram(\n",
      "C:\\Users\\mique\\AppData\\Local\\Packages\\PythonSoftwareFoundation.Python.3.11_qbz5n2kfra8p0\\LocalCache\\local-packages\\Python311\\site-packages\\sklearn\\linear_model\\_coordinate_descent.py:664: ConvergenceWarning: Objective did not converge. You might want to increase the number of iterations. Duality gap: 0.005696437269288257, tolerance: 0.0008098224719101122\n",
      "  model = cd_fast.enet_coordinate_descent_gram(\n",
      "C:\\Users\\mique\\AppData\\Local\\Packages\\PythonSoftwareFoundation.Python.3.11_qbz5n2kfra8p0\\LocalCache\\local-packages\\Python311\\site-packages\\sklearn\\linear_model\\_coordinate_descent.py:664: ConvergenceWarning: Objective did not converge. You might want to increase the number of iterations. Duality gap: 0.005202118819239265, tolerance: 0.000816083904494382\n",
      "  model = cd_fast.enet_coordinate_descent_gram(\n"
     ]
    }
   ],
   "source": [
    "lasso_cv = LassoCV(alphas=lambdas, cv = 10)\n",
    "lasso_cv.fit(X_train, y_train)\n",
    "print('Best Lambda:', lasso_cv.alpha_)\n",
    "lasso_r2 = r2_score(y_train, lasso_cv.predict(X_train))\n",
    "print('R2 SCORE: ', lasso_r2)"
   ]
  },
  {
   "cell_type": "code",
   "execution_count": 27,
   "metadata": {},
   "outputs": [
    {
     "data": {
      "text/plain": [
       "array([3.45647758e-05, 1.75126936e-03, 6.27301426e-03, 2.50047783e-03,\n",
       "       4.27929118e-04, 2.04588091e-02, 3.53532239e-03, 7.47391502e-03,\n",
       "       2.06162226e-02, 2.71495001e-02, 1.19000041e-02, 7.07960812e-04,\n",
       "       1.12847379e-02, 9.08330749e-03, 1.24760879e-02, 4.47746179e-02,\n",
       "       2.22858107e-02, 9.03368995e-03, 1.64019981e-02, 2.16619401e-02,\n",
       "       3.14940820e-02, 1.00465001e-02, 1.16575454e-02, 8.30165657e-03,\n",
       "       6.73237561e-03, 1.26774229e-02, 1.92075648e-02, 1.70535842e-02,\n",
       "       1.54209004e-02, 2.49204788e-02, 9.65468211e-03, 8.61427141e-03])"
      ]
     },
     "execution_count": 27,
     "metadata": {},
     "output_type": "execute_result"
    }
   ],
   "source": [
    "abs(lasso_cv.coef_ - lr.coef_)"
   ]
  },
  {
   "cell_type": "markdown",
   "metadata": {},
   "source": [
    "No hi ha hagut massa diferència"
   ]
  },
  {
   "cell_type": "markdown",
   "metadata": {},
   "source": [
    "## Random forest"
   ]
  },
  {
   "cell_type": "code",
   "execution_count": 26,
   "metadata": {},
   "outputs": [
    {
     "name": "stdout",
     "output_type": "stream",
     "text": [
      "0.9645964833036277\n",
      "0.0008007574554027066\n",
      "0.03540351669637232\n",
      "OOB accuracy= 0.8147247664486079\n"
     ]
    }
   ],
   "source": [
    "rf = RandomForestRegressor(oob_score=True)\n",
    "model_rf = rf.fit(X_train, y_train)\n",
    "\n",
    "y_pred_tree = model_rf.predict(X_train)\n",
    "\n",
    "print(r2_score(y_train, y_pred_tree))\n",
    "print(mean_squared_error(y_train, y_pred_tree))\n",
    "print(1 - r2_score(y_train, y_pred_tree))\n",
    "\n",
    "\n",
    "print('OOB accuracy=', model_rf.oob_score_)"
   ]
  },
  {
   "cell_type": "markdown",
   "metadata": {},
   "source": [
    "MOLT baix error -> Però segurament és degut a overfitting (salt entre r2_score i OOB score)\n",
    "La precisió pel OOB set és bastant bona, però."
   ]
  },
  {
   "cell_type": "markdown",
   "metadata": {},
   "source": [
    "Podriem afegir GridSearch (tant al DecisionTree com al RandomForest) !"
   ]
  },
  {
   "cell_type": "markdown",
   "metadata": {},
   "source": [
    "### GridSearch per Decision Tree"
   ]
  },
  {
   "cell_type": "markdown",
   "metadata": {},
   "source": [
    "Anem a veure si un Decision Tree SOL és capaç de fer una bona regressió."
   ]
  },
  {
   "cell_type": "markdown",
   "metadata": {},
   "source": [
    "10 folds CV"
   ]
  },
  {
   "cell_type": "code",
   "execution_count": 65,
   "metadata": {},
   "outputs": [],
   "source": [
    "from sklearn.tree import DecisionTreeRegressor\n",
    "from sklearn.model_selection import GridSearchCV\n",
    "from sklearn.metrics import make_scorer\n",
    "from sklearn.metrics import mean_absolute_error, mean_squared_error, r2_score\n",
    "\n",
    "\n",
    "# Define the parameter grid for grid search\n",
    "param_grid = {\n",
    "    'max_depth': [8, 9, 10, 11, 12],  # values around 10\n",
    "    'min_samples_split': [2, 3, 4, 5, 6],  # values around 4\n",
    "    'min_samples_leaf': [5, 6, 7, 8, 9],  # values around 7\n",
    "    'max_features': ['sqrt', 'log2', None]  # including None as it was the best in the previous run\n",
    "}\n",
    "\n",
    "scoring = {\n",
    "    'neg_mean_absolute_error': make_scorer(mean_absolute_error, greater_is_better=False),\n",
    "    'neg_mean_squared_error': make_scorer(mean_squared_error, greater_is_better=False),\n",
    "    'r2': make_scorer(r2_score)\n",
    "}\n",
    "\n",
    "# Create a decision tree regressor\n",
    "dt = DecisionTreeRegressor(random_state=42)\n",
    "\n",
    "# Create the grid search object\n",
    "grid_search = GridSearchCV(dt, param_grid, cv=10, scoring=scoring, refit='r2', return_train_score=True, n_jobs=-1)\n",
    "\n",
    "# Fit the grid search to the training data\n",
    "grid_search.fit(X_train, y_train)  \n",
    "\n",
    "# Get the best parameters and best score\n",
    "best_params = grid_search.best_params_\n",
    "best_score = grid_search.best_score_\n",
    "\n",
    "# Create a new decision tree with the best parameters\n",
    "best_dt = DecisionTreeRegressor(random_state=42,**best_params)\n",
    "\n",
    "# Fit the new decision tree to the training data\n",
    "best_dt.fit(X_train, y_train)\n",
    "\n",
    "# Predict using the new decision tree\n",
    "y_pred_best_decision_tree = best_dt.predict(X_test)"
   ]
  },
  {
   "cell_type": "code",
   "execution_count": 66,
   "metadata": {},
   "outputs": [
    {
     "name": "stdout",
     "output_type": "stream",
     "text": [
      "0.8079011419812345\n"
     ]
    }
   ],
   "source": [
    "print(r2_score(y_test, y_pred_best_decision_tree))"
   ]
  },
  {
   "cell_type": "code",
   "execution_count": 64,
   "metadata": {},
   "outputs": [
    {
     "data": {
      "text/html": [
       "<div>\n",
       "<style scoped>\n",
       "    .dataframe tbody tr th:only-of-type {\n",
       "        vertical-align: middle;\n",
       "    }\n",
       "\n",
       "    .dataframe tbody tr th {\n",
       "        vertical-align: top;\n",
       "    }\n",
       "\n",
       "    .dataframe thead th {\n",
       "        text-align: right;\n",
       "    }\n",
       "</style>\n",
       "<table border=\"1\" class=\"dataframe\">\n",
       "  <thead>\n",
       "    <tr style=\"text-align: right;\">\n",
       "      <th></th>\n",
       "      <th>param_max_depth</th>\n",
       "      <th>param_min_samples_split</th>\n",
       "      <th>param_min_samples_leaf</th>\n",
       "      <th>param_max_features</th>\n",
       "      <th>mean_test_neg_mean_absolute_error</th>\n",
       "      <th>mean_test_neg_mean_squared_error</th>\n",
       "      <th>mean_test_r2</th>\n",
       "    </tr>\n",
       "  </thead>\n",
       "  <tbody>\n",
       "    <tr>\n",
       "      <th>139</th>\n",
       "      <td>9</td>\n",
       "      <td>6</td>\n",
       "      <td>7</td>\n",
       "      <td>None</td>\n",
       "      <td>-0.051023</td>\n",
       "      <td>-0.004565</td>\n",
       "      <td>0.792858</td>\n",
       "    </tr>\n",
       "    <tr>\n",
       "      <th>135</th>\n",
       "      <td>9</td>\n",
       "      <td>2</td>\n",
       "      <td>7</td>\n",
       "      <td>None</td>\n",
       "      <td>-0.051023</td>\n",
       "      <td>-0.004565</td>\n",
       "      <td>0.792858</td>\n",
       "    </tr>\n",
       "    <tr>\n",
       "      <th>136</th>\n",
       "      <td>9</td>\n",
       "      <td>3</td>\n",
       "      <td>7</td>\n",
       "      <td>None</td>\n",
       "      <td>-0.051023</td>\n",
       "      <td>-0.004565</td>\n",
       "      <td>0.792858</td>\n",
       "    </tr>\n",
       "    <tr>\n",
       "      <th>137</th>\n",
       "      <td>9</td>\n",
       "      <td>4</td>\n",
       "      <td>7</td>\n",
       "      <td>None</td>\n",
       "      <td>-0.051023</td>\n",
       "      <td>-0.004565</td>\n",
       "      <td>0.792858</td>\n",
       "    </tr>\n",
       "    <tr>\n",
       "      <th>138</th>\n",
       "      <td>9</td>\n",
       "      <td>5</td>\n",
       "      <td>7</td>\n",
       "      <td>None</td>\n",
       "      <td>-0.051023</td>\n",
       "      <td>-0.004565</td>\n",
       "      <td>0.792858</td>\n",
       "    </tr>\n",
       "  </tbody>\n",
       "</table>\n",
       "</div>"
      ],
      "text/plain": [
       "    param_max_depth param_min_samples_split param_min_samples_leaf  \\\n",
       "139               9                       6                      7   \n",
       "135               9                       2                      7   \n",
       "136               9                       3                      7   \n",
       "137               9                       4                      7   \n",
       "138               9                       5                      7   \n",
       "\n",
       "    param_max_features  mean_test_neg_mean_absolute_error  \\\n",
       "139               None                          -0.051023   \n",
       "135               None                          -0.051023   \n",
       "136               None                          -0.051023   \n",
       "137               None                          -0.051023   \n",
       "138               None                          -0.051023   \n",
       "\n",
       "     mean_test_neg_mean_squared_error  mean_test_r2  \n",
       "139                         -0.004565      0.792858  \n",
       "135                         -0.004565      0.792858  \n",
       "136                         -0.004565      0.792858  \n",
       "137                         -0.004565      0.792858  \n",
       "138                         -0.004565      0.792858  "
      ]
     },
     "execution_count": 64,
     "metadata": {},
     "output_type": "execute_result"
    }
   ],
   "source": [
    "scoring_cols = [\n",
    "    'param_max_depth', 'param_min_samples_split', 'param_min_samples_leaf', 'param_max_features',\n",
    "    'mean_test_neg_mean_absolute_error', 'mean_test_neg_mean_squared_error', 'mean_test_r2'\n",
    "]\n",
    "\n",
    "pd.DataFrame(grid_search.cv_results_).sort_values(by='mean_test_r2', ascending=False)[scoring_cols].head()"
   ]
  },
  {
   "cell_type": "markdown",
   "metadata": {},
   "source": [
    "5 folds CV"
   ]
  },
  {
   "cell_type": "code",
   "execution_count": 60,
   "metadata": {},
   "outputs": [],
   "source": [
    "\n",
    "# Create a decision tree regressor\n",
    "dt = DecisionTreeRegressor(random_state=42)\n",
    "\n",
    "# Create the grid search object\n",
    "grid_search = GridSearchCV(dt, param_grid, cv=5, scoring=scoring, refit='r2', return_train_score=True, n_jobs=-1)\n",
    "\n",
    "# Fit the grid search to the training data\n",
    "grid_search.fit(X_train, y_train)  \n",
    "\n",
    "# Get the best parameters and best score\n",
    "best_params = grid_search.best_params_\n",
    "best_score = grid_search.best_score_\n",
    "\n",
    "# Create a new decision tree with the best parameters\n",
    "best_dt = DecisionTreeRegressor(random_state=42,**best_params)\n",
    "\n",
    "# Fit the new decision tree to the training data\n",
    "best_dt.fit(X_train, y_train)\n",
    "\n",
    "# Predict using the new decision tree\n",
    "y_pred_best_dt = best_dt.predict(X_test)"
   ]
  },
  {
   "cell_type": "code",
   "execution_count": 61,
   "metadata": {},
   "outputs": [
    {
     "name": "stdout",
     "output_type": "stream",
     "text": [
      "0.7948712700031756\n"
     ]
    }
   ],
   "source": [
    "print(r2_score(y_test, y_pred_best_dt))"
   ]
  },
  {
   "cell_type": "code",
   "execution_count": null,
   "metadata": {},
   "outputs": [],
   "source": [
    "scoring_cols = [\n",
    "    'param_max_depth', 'param_min_samples_split', 'param_min_samples_leaf', 'param_max_features',\n",
    "    'mean_test_neg_mean_absolute_error', 'mean_test_neg_mean_squared_error', 'mean_test_r2'\n",
    "]\n",
    "\n",
    "pd.DataFrame(grid_search.cv_results_).sort_values(by='mean_test_r2', ascending=False)[scoring_cols].head()"
   ]
  },
  {
   "cell_type": "markdown",
   "metadata": {},
   "source": [
    "Un bon decision tree! Quasi el 80% de la variància explicada per ambdós nivell de folds. És bàsicament tant bo com el RF sense Grid Search.\n",
    "\n",
    "Coses a veure: hi ha poc overfitting perquè el r2 mitjà de la CV és quasi igual al de r2 de generalització?"
   ]
  },
  {
   "cell_type": "code",
   "execution_count": null,
   "metadata": {},
   "outputs": [],
   "source": [
    "# best parameters\n",
    "\n",
    "# param_grid = {\n",
    "#     'max_depth': [9],\n",
    "#     'min_samples_split': [2, 3, 4, 5, 6],\n",
    "#     'min_samples_leaf': [7],\n",
    "#     'max_features': [None]\n",
    "# }"
   ]
  },
  {
   "cell_type": "markdown",
   "metadata": {},
   "source": [
    "### GridSearch per Random Forest"
   ]
  },
  {
   "cell_type": "code",
   "execution_count": 74,
   "metadata": {},
   "outputs": [],
   "source": [
    "param_grid = {\n",
    "    'n_estimators': [10,100,200],\n",
    "    'max_depth': [8, 9, 10, 11, 12],  # values around 10\n",
    "    'min_samples_split': [2, 3, 4, 5, 6],  # values around 4\n",
    "    'min_samples_leaf': [5, 6, 7, 8, 9],  # values around 7\n",
    "    'max_features': ['sqrt', 'log2', None]  # including None as it was the best in the previous run\n",
    "}\n",
    "\n",
    "scoring = {\n",
    "    'neg_mean_absolute_error': make_scorer(mean_absolute_error, greater_is_better=False),\n",
    "    'neg_mean_squared_error': make_scorer(mean_squared_error, greater_is_better=False),\n",
    "    'r2': make_scorer(r2_score)\n",
    "}\n",
    "\n",
    "# Create a decision tree regressor\n",
    "rf = RandomForestRegressor(random_state=42)\n",
    "\n",
    "# Create the grid search object\n",
    "grid_search = GridSearchCV(rf, param_grid, cv=10, scoring=scoring, refit='r2', return_train_score=True, n_jobs=-1)\n",
    "\n",
    "# Fit the grid search to the training data\n",
    "grid_search.fit(X_train, y_train)  \n",
    "\n",
    "# Get the best parameters and best score\n",
    "best_params = grid_search.best_params_\n",
    "best_score = grid_search.best_score_\n",
    "\n",
    "# Create a new decision tree with the best parameters\n",
    "best_rf = RandomForestRegressor(random_state=42,**best_params)\n",
    "\n",
    "# Fit the new decision tree to the training data\n",
    "best_rf.fit(X_train, y_train)\n",
    "\n",
    "# Predict using the new decision tree\n",
    "y_pred_best_rf = best_rf.predict(X_test)"
   ]
  },
  {
   "cell_type": "code",
   "execution_count": 78,
   "metadata": {},
   "outputs": [
    {
     "name": "stdout",
     "output_type": "stream",
     "text": [
      "0.794732675124019\n"
     ]
    }
   ],
   "source": [
    "print(r2_score(y_test, y_pred_best_rf))"
   ]
  },
  {
   "cell_type": "code",
   "execution_count": 87,
   "metadata": {},
   "outputs": [
    {
     "data": {
      "text/plain": [
       "100"
      ]
     },
     "execution_count": 87,
     "metadata": {},
     "output_type": "execute_result"
    }
   ],
   "source": [
    "best_rf.n_estimators"
   ]
  },
  {
   "cell_type": "code",
   "execution_count": 84,
   "metadata": {},
   "outputs": [
    {
     "data": {
      "text/html": [
       "<div>\n",
       "<style scoped>\n",
       "    .dataframe tbody tr th:only-of-type {\n",
       "        vertical-align: middle;\n",
       "    }\n",
       "\n",
       "    .dataframe tbody tr th {\n",
       "        vertical-align: top;\n",
       "    }\n",
       "\n",
       "    .dataframe thead th {\n",
       "        text-align: right;\n",
       "    }\n",
       "</style>\n",
       "<table border=\"1\" class=\"dataframe\">\n",
       "  <thead>\n",
       "    <tr style=\"text-align: right;\">\n",
       "      <th></th>\n",
       "      <th>param_max_depth</th>\n",
       "      <th>param_min_samples_split</th>\n",
       "      <th>param_min_samples_leaf</th>\n",
       "      <th>param_max_features</th>\n",
       "      <th>mean_test_neg_mean_absolute_error</th>\n",
       "      <th>mean_test_neg_mean_squared_error</th>\n",
       "      <th>mean_test_r2</th>\n",
       "    </tr>\n",
       "  </thead>\n",
       "  <tbody>\n",
       "    <tr>\n",
       "      <th>705</th>\n",
       "      <td>12</td>\n",
       "      <td>4</td>\n",
       "      <td>5</td>\n",
       "      <td>None</td>\n",
       "      <td>-0.051248</td>\n",
       "      <td>-0.004426</td>\n",
       "      <td>0.800313</td>\n",
       "    </tr>\n",
       "    <tr>\n",
       "      <th>703</th>\n",
       "      <td>12</td>\n",
       "      <td>3</td>\n",
       "      <td>5</td>\n",
       "      <td>None</td>\n",
       "      <td>-0.051248</td>\n",
       "      <td>-0.004426</td>\n",
       "      <td>0.800313</td>\n",
       "    </tr>\n",
       "    <tr>\n",
       "      <th>701</th>\n",
       "      <td>12</td>\n",
       "      <td>2</td>\n",
       "      <td>5</td>\n",
       "      <td>None</td>\n",
       "      <td>-0.051248</td>\n",
       "      <td>-0.004426</td>\n",
       "      <td>0.800313</td>\n",
       "    </tr>\n",
       "    <tr>\n",
       "      <th>709</th>\n",
       "      <td>12</td>\n",
       "      <td>6</td>\n",
       "      <td>5</td>\n",
       "      <td>None</td>\n",
       "      <td>-0.051248</td>\n",
       "      <td>-0.004426</td>\n",
       "      <td>0.800313</td>\n",
       "    </tr>\n",
       "    <tr>\n",
       "      <th>707</th>\n",
       "      <td>12</td>\n",
       "      <td>5</td>\n",
       "      <td>5</td>\n",
       "      <td>None</td>\n",
       "      <td>-0.051248</td>\n",
       "      <td>-0.004426</td>\n",
       "      <td>0.800313</td>\n",
       "    </tr>\n",
       "  </tbody>\n",
       "</table>\n",
       "</div>"
      ],
      "text/plain": [
       "    param_max_depth param_min_samples_split param_min_samples_leaf  \\\n",
       "705              12                       4                      5   \n",
       "703              12                       3                      5   \n",
       "701              12                       2                      5   \n",
       "709              12                       6                      5   \n",
       "707              12                       5                      5   \n",
       "\n",
       "    param_max_features  mean_test_neg_mean_absolute_error  \\\n",
       "705               None                          -0.051248   \n",
       "703               None                          -0.051248   \n",
       "701               None                          -0.051248   \n",
       "709               None                          -0.051248   \n",
       "707               None                          -0.051248   \n",
       "\n",
       "     mean_test_neg_mean_squared_error  mean_test_r2  \n",
       "705                         -0.004426      0.800313  \n",
       "703                         -0.004426      0.800313  \n",
       "701                         -0.004426      0.800313  \n",
       "709                         -0.004426      0.800313  \n",
       "707                         -0.004426      0.800313  "
      ]
     },
     "execution_count": 84,
     "metadata": {},
     "output_type": "execute_result"
    }
   ],
   "source": [
    "scoring_cols = [\n",
    "    'param_max_depth', 'param_min_samples_split', 'param_min_samples_leaf', 'param_max_features',\n",
    "    'mean_test_neg_mean_absolute_error', 'mean_test_neg_mean_squared_error', 'mean_test_r2'\n",
    "]\n",
    "\n",
    "pd.DataFrame(grid_search.cv_results_).sort_values(by='mean_test_r2', ascending=False)[scoring_cols].head()"
   ]
  }
 ],
 "metadata": {
  "kernelspec": {
   "display_name": "Python 3",
   "language": "python",
   "name": "python3"
  },
  "language_info": {
   "codemirror_mode": {
    "name": "ipython",
    "version": 3
   },
   "file_extension": ".py",
   "mimetype": "text/x-python",
   "name": "python",
   "nbconvert_exporter": "python",
   "pygments_lexer": "ipython3",
   "version": "3.11.9"
  }
 },
 "nbformat": 4,
 "nbformat_minor": 2
}
