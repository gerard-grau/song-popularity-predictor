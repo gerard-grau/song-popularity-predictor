{
 "cells": [
  {
   "cell_type": "markdown",
   "metadata": {},
   "source": [
    "# Modelització"
   ]
  },
  {
   "cell_type": "code",
   "execution_count": 3,
   "metadata": {},
   "outputs": [],
   "source": [
    "import numpy as np\n",
    "import pandas as pd\n",
    "import matplotlib.pyplot as plt\n",
    "import seaborn as sns\n",
    "from sklearn import preprocessing"
   ]
  },
  {
   "cell_type": "code",
   "execution_count": 4,
   "metadata": {},
   "outputs": [],
   "source": [
    "from sklearn.model_selection import train_test_split,  KFold, cross_val_score, GridSearchCV\n",
    "from sklearn.linear_model import LinearRegression, Ridge, RidgeCV, Lasso, LassoCV\n",
    "from sklearn.metrics import mean_squared_error, r2_score, confusion_matrix, accuracy_score, f1_score, explained_variance_score\n",
    "from sklearn.tree import DecisionTreeRegressor\n",
    "from sklearn.ensemble import RandomForestRegressor\n"
   ]
  },
  {
   "cell_type": "code",
   "execution_count": 171,
   "metadata": {},
   "outputs": [],
   "source": [
    "pd.set_option('display.width', 100)"
   ]
  },
  {
   "cell_type": "markdown",
   "metadata": {},
   "source": [
    "### Training i test split"
   ]
  },
  {
   "cell_type": "code",
   "execution_count": 21,
   "metadata": {},
   "outputs": [],
   "source": [
    "X_train = pd.read_csv('X_train.csv', index_col=[0,1])\n",
    "X_test = pd.read_csv('X_test.csv', index_col=[0,1])\n",
    "y_train = pd.read_csv('y_train.csv').squeeze()\n",
    "y_test = pd.read_csv('y_test.csv').squeeze()"
   ]
  },
  {
   "cell_type": "code",
   "execution_count": 29,
   "metadata": {},
   "outputs": [
    {
     "data": {
      "text/html": [
       "<div>\n",
       "<style scoped>\n",
       "    .dataframe tbody tr th:only-of-type {\n",
       "        vertical-align: middle;\n",
       "    }\n",
       "\n",
       "    .dataframe tbody tr th {\n",
       "        vertical-align: top;\n",
       "    }\n",
       "\n",
       "    .dataframe thead th {\n",
       "        text-align: right;\n",
       "    }\n",
       "</style>\n",
       "<table border=\"1\" class=\"dataframe\">\n",
       "  <thead>\n",
       "    <tr style=\"text-align: right;\">\n",
       "      <th></th>\n",
       "      <th></th>\n",
       "      <th>track_number</th>\n",
       "      <th>acousticness</th>\n",
       "      <th>danceability</th>\n",
       "      <th>energy</th>\n",
       "      <th>liveness</th>\n",
       "      <th>loudness</th>\n",
       "      <th>tempo</th>\n",
       "      <th>valence</th>\n",
       "      <th>duration</th>\n",
       "      <th>taylors_version</th>\n",
       "      <th>...</th>\n",
       "      <th>Red</th>\n",
       "      <th>Red (Taylor's Version)</th>\n",
       "      <th>Speak Now</th>\n",
       "      <th>Speak Now (Taylor's Version)</th>\n",
       "      <th>Speak Now World Tour Live</th>\n",
       "      <th>Taylor Swift</th>\n",
       "      <th>evermore</th>\n",
       "      <th>folklore</th>\n",
       "      <th>reputation</th>\n",
       "      <th>reputation Stadium Tour Surprise Song Playlist</th>\n",
       "    </tr>\n",
       "    <tr>\n",
       "      <th>name</th>\n",
       "      <th>album</th>\n",
       "      <th></th>\n",
       "      <th></th>\n",
       "      <th></th>\n",
       "      <th></th>\n",
       "      <th></th>\n",
       "      <th></th>\n",
       "      <th></th>\n",
       "      <th></th>\n",
       "      <th></th>\n",
       "      <th></th>\n",
       "      <th></th>\n",
       "      <th></th>\n",
       "      <th></th>\n",
       "      <th></th>\n",
       "      <th></th>\n",
       "      <th></th>\n",
       "      <th></th>\n",
       "      <th></th>\n",
       "      <th></th>\n",
       "      <th></th>\n",
       "      <th></th>\n",
       "    </tr>\n",
       "  </thead>\n",
       "  <tbody>\n",
       "    <tr>\n",
       "      <th>You're On Your Own, Kid</th>\n",
       "      <th>Midnights</th>\n",
       "      <td>0.088889</td>\n",
       "      <td>-0.779037</td>\n",
       "      <td>0.689602</td>\n",
       "      <td>0.322115</td>\n",
       "      <td>-3.962381</td>\n",
       "      <td>0.399829</td>\n",
       "      <td>0.372703</td>\n",
       "      <td>0.389355</td>\n",
       "      <td>0.102381</td>\n",
       "      <td>False</td>\n",
       "      <td>...</td>\n",
       "      <td>False</td>\n",
       "      <td>False</td>\n",
       "      <td>False</td>\n",
       "      <td>False</td>\n",
       "      <td>False</td>\n",
       "      <td>False</td>\n",
       "      <td>False</td>\n",
       "      <td>False</td>\n",
       "      <td>False</td>\n",
       "      <td>False</td>\n",
       "    </tr>\n",
       "    <tr>\n",
       "      <th>Fearless</th>\n",
       "      <th>Fearless</th>\n",
       "      <td>0.133333</td>\n",
       "      <td>-2.302505</td>\n",
       "      <td>0.542813</td>\n",
       "      <td>0.716346</td>\n",
       "      <td>-1.666484</td>\n",
       "      <td>0.822298</td>\n",
       "      <td>0.228743</td>\n",
       "      <td>0.474382</td>\n",
       "      <td>0.204814</td>\n",
       "      <td>False</td>\n",
       "      <td>...</td>\n",
       "      <td>False</td>\n",
       "      <td>False</td>\n",
       "      <td>False</td>\n",
       "      <td>False</td>\n",
       "      <td>False</td>\n",
       "      <td>False</td>\n",
       "      <td>False</td>\n",
       "      <td>False</td>\n",
       "      <td>False</td>\n",
       "      <td>False</td>\n",
       "    </tr>\n",
       "  </tbody>\n",
       "</table>\n",
       "<p>2 rows × 32 columns</p>\n",
       "</div>"
      ],
      "text/plain": [
       "                                   track_number  acousticness  danceability  \\\n",
       "name                    album                                                 \n",
       "You're On Your Own, Kid Midnights      0.088889     -0.779037      0.689602   \n",
       "Fearless                Fearless       0.133333     -2.302505      0.542813   \n",
       "\n",
       "                                     energy  liveness  loudness     tempo  \\\n",
       "name                    album                                               \n",
       "You're On Your Own, Kid Midnights  0.322115 -3.962381  0.399829  0.372703   \n",
       "Fearless                Fearless   0.716346 -1.666484  0.822298  0.228743   \n",
       "\n",
       "                                    valence  duration  taylors_version  ...  \\\n",
       "name                    album                                           ...   \n",
       "You're On Your Own, Kid Midnights  0.389355  0.102381            False  ...   \n",
       "Fearless                Fearless   0.474382  0.204814            False  ...   \n",
       "\n",
       "                                     Red  Red (Taylor's Version)  Speak Now  \\\n",
       "name                    album                                                 \n",
       "You're On Your Own, Kid Midnights  False                   False      False   \n",
       "Fearless                Fearless   False                   False      False   \n",
       "\n",
       "                                   Speak Now (Taylor's Version)  \\\n",
       "name                    album                                     \n",
       "You're On Your Own, Kid Midnights                         False   \n",
       "Fearless                Fearless                          False   \n",
       "\n",
       "                                   Speak Now World Tour Live  Taylor Swift  \\\n",
       "name                    album                                                \n",
       "You're On Your Own, Kid Midnights                      False         False   \n",
       "Fearless                Fearless                       False         False   \n",
       "\n",
       "                                   evermore  folklore  reputation  \\\n",
       "name                    album                                       \n",
       "You're On Your Own, Kid Midnights     False     False       False   \n",
       "Fearless                Fearless      False     False       False   \n",
       "\n",
       "                                   reputation Stadium Tour Surprise Song Playlist  \n",
       "name                    album                                                      \n",
       "You're On Your Own, Kid Midnights                                           False  \n",
       "Fearless                Fearless                                            False  \n",
       "\n",
       "[2 rows x 32 columns]"
      ]
     },
     "execution_count": 29,
     "metadata": {},
     "output_type": "execute_result"
    }
   ],
   "source": [
    "X_train.head(2)"
   ]
  },
  {
   "cell_type": "code",
   "execution_count": 39,
   "metadata": {},
   "outputs": [
    {
     "data": {
      "text/html": [
       "<div>\n",
       "<style scoped>\n",
       "    .dataframe tbody tr th:only-of-type {\n",
       "        vertical-align: middle;\n",
       "    }\n",
       "\n",
       "    .dataframe tbody tr th {\n",
       "        vertical-align: top;\n",
       "    }\n",
       "\n",
       "    .dataframe thead th {\n",
       "        text-align: right;\n",
       "    }\n",
       "</style>\n",
       "<table border=\"1\" class=\"dataframe\">\n",
       "  <thead>\n",
       "    <tr style=\"text-align: right;\">\n",
       "      <th></th>\n",
       "      <th>0</th>\n",
       "      <th>1</th>\n",
       "      <th>2</th>\n",
       "      <th>3</th>\n",
       "      <th>4</th>\n",
       "      <th>5</th>\n",
       "      <th>6</th>\n",
       "      <th>7</th>\n",
       "      <th>8</th>\n",
       "      <th>9</th>\n",
       "      <th>...</th>\n",
       "      <th>410</th>\n",
       "      <th>411</th>\n",
       "      <th>412</th>\n",
       "      <th>413</th>\n",
       "      <th>414</th>\n",
       "      <th>415</th>\n",
       "      <th>416</th>\n",
       "      <th>417</th>\n",
       "      <th>418</th>\n",
       "      <th>419</th>\n",
       "    </tr>\n",
       "  </thead>\n",
       "  <tbody>\n",
       "    <tr>\n",
       "      <th>popularity</th>\n",
       "      <td>0.67</td>\n",
       "      <td>0.43</td>\n",
       "      <td>0.78</td>\n",
       "      <td>0.65</td>\n",
       "      <td>0.54</td>\n",
       "      <td>0.69</td>\n",
       "      <td>0.51</td>\n",
       "      <td>0.79</td>\n",
       "      <td>0.3</td>\n",
       "      <td>0.33</td>\n",
       "      <td>...</td>\n",
       "      <td>0.33</td>\n",
       "      <td>0.5</td>\n",
       "      <td>0.54</td>\n",
       "      <td>0.68</td>\n",
       "      <td>0.71</td>\n",
       "      <td>0.64</td>\n",
       "      <td>0.71</td>\n",
       "      <td>0.76</td>\n",
       "      <td>0.45</td>\n",
       "      <td>0.7</td>\n",
       "    </tr>\n",
       "  </tbody>\n",
       "</table>\n",
       "<p>1 rows × 420 columns</p>\n",
       "</div>"
      ],
      "text/plain": [
       "             0     1     2     3     4     5     6     7    8     9    ...  \\\n",
       "popularity  0.67  0.43  0.78  0.65  0.54  0.69  0.51  0.79  0.3  0.33  ...   \n",
       "\n",
       "             410  411   412   413   414   415   416   417   418  419  \n",
       "popularity  0.33  0.5  0.54  0.68  0.71  0.64  0.71  0.76  0.45  0.7  \n",
       "\n",
       "[1 rows x 420 columns]"
      ]
     },
     "execution_count": 39,
     "metadata": {},
     "output_type": "execute_result"
    }
   ],
   "source": [
    "y_train.to_frame().T"
   ]
  },
  {
   "cell_type": "markdown",
   "metadata": {},
   "source": [
    "## Model Lineal"
   ]
  },
  {
   "cell_type": "code",
   "execution_count": 40,
   "metadata": {},
   "outputs": [
    {
     "name": "stdout",
     "output_type": "stream",
     "text": [
      "Coeficients\n",
      "\t track_number -0.11349831606003592\n",
      "\t acousticness 0.005425729761541431\n",
      "\t danceability -0.027731832254065097\n",
      "\t energy 0.0201498338155098\n",
      "\t liveness -0.0033022882649768616\n",
      "\t loudness 0.07955390522100256\n",
      "\t tempo -0.029391404112547117\n",
      "\t valence 0.01642887313746708\n",
      "\t duration 0.03128100075907276\n",
      "\t taylors_version 0.07847016626107434\n",
      "\t performed_live -0.1840759073713583\n",
      "\t not_first_release -0.07229245991206512\n",
      "\t low_instrumentalness -0.016342372265759297\n",
      "\t medium_instrumentalness -0.016997603257131025\n",
      "\t spoken_section -0.012115115999485525\n",
      "\t 1989 -0.04898633028467838\n",
      "\t 1989 (Taylor's Version) 0.06272821529858498\n",
      "\t Fearless -0.15863237395973295\n",
      "\t Fearless (Taylor's Version) -0.013699963694327478\n",
      "\t Live From Clear Channel Stripped 2008 -0.11911496104576173\n",
      "\t Lover 0.16966280149796012\n",
      "\t Midnights 0.14302491378327875\n",
      "\t Red -0.166534634735575\n",
      "\t Red (Taylor's Version) 0.012508592573150694\n",
      "\t Speak Now -0.11921862701619398\n",
      "\t Speak Now (Taylor's Version) 0.016933322083670675\n",
      "\t Speak Now World Tour Live 0.011987455357942694\n",
      "\t Taylor Swift -0.07171012885474724\n",
      "\t evermore 0.10485554975602943\n",
      "\t folklore 0.07381597709546397\n",
      "\t reputation 0.17932859382847774\n",
      "\t reputation Stadium Tour Surprise Song Playlist -0.07694840168353852\n",
      "Intercept: \n",
      "\t 0.5953751364135399\n",
      "32\n"
     ]
    }
   ],
   "source": [
    "lr = LinearRegression()\n",
    "\n",
    "lr.fit(X_train,y_train)\n",
    "\n",
    "y_pred = lr.predict(X_train)\n",
    "\n",
    "weights = lr.coef_\n",
    "intercept = lr.intercept_\n",
    "\n",
    "print('Coeficients')\n",
    "for x, y in zip(X_test.columns, weights[:]):\n",
    "    print('\\t', x, y)\n",
    "print('Intercept: \\n\\t', intercept)\n",
    "\n",
    "print(len(weights))"
   ]
  },
  {
   "cell_type": "code",
   "execution_count": 45,
   "metadata": {},
   "outputs": [
    {
     "name": "stdout",
     "output_type": "stream",
     "text": [
      "1989 -0.04898633028467838\n",
      "1989 (Taylor's Version) 0.06272821529858498\n",
      "Fearless -0.15863237395973295\n",
      "Fearless (Taylor's Version) -0.013699963694327478\n",
      "Live From Clear Channel Stripped 2008 -0.11911496104576173\n",
      "Lover 0.16966280149796012\n",
      "Midnights 0.14302491378327875\n",
      "Red -0.166534634735575\n",
      "Red (Taylor's Version) 0.012508592573150694\n",
      "Speak Now -0.11921862701619398\n",
      "Speak Now (Taylor's Version) 0.016933322083670675\n",
      "Speak Now World Tour Live 0.011987455357942694\n",
      "Taylor Swift -0.07171012885474724\n",
      "evermore 0.10485554975602943\n",
      "folklore 0.07381597709546397\n",
      "reputation 0.17932859382847774\n",
      "reputation Stadium Tour Surprise Song Playlist -0.07694840168353852\n",
      "Intercept: \n",
      " 0.5953751364135399\n"
     ]
    }
   ],
   "source": [
    "### Molt important veure quins són els pesos dels coeficients 'album', ja que quan predim no en posarem ###\n",
    "\n",
    "album_weights = weights[15:]\n",
    "\n",
    "for x, y in zip(X_train.columns[15:], album_weights):\n",
    "    print(x, y)\n",
    "print('Intercept: \\n', intercept)\n"
   ]
  },
  {
   "cell_type": "code",
   "execution_count": 47,
   "metadata": {},
   "outputs": [
    {
     "data": {
      "image/png": "[encoded data removed]",
      "text/plain": [
       "<Figure size 640x480 with 1 Axes>"
      ]
     },
     "metadata": {},
     "output_type": "display_data"
    }
   ],
   "source": [
    "plt.bar(X_test.columns[15:], album_weights)\n",
    "plt.xticks(rotation=90)\n",
    "plt.show()"
   ]
  },
  {
   "cell_type": "markdown",
   "metadata": {},
   "source": [
    "Veiem que els àlbums més recents (Midnights, evermore, folklore, Lover)..."
   ]
  },
  {
   "cell_type": "code",
   "execution_count": 48,
   "metadata": {},
   "outputs": [
    {
     "name": "stdout",
     "output_type": "stream",
     "text": [
      "0     -0.012696\n",
      "1      0.015397\n",
      "2      0.024603\n",
      "3     -0.004019\n",
      "4     -0.060980\n",
      "         ...   \n",
      "415   -0.036538\n",
      "416   -0.049125\n",
      "417    0.072973\n",
      "418    0.021833\n",
      "419   -0.016279\n",
      "Name: popularity, Length: 420, dtype: float64\n"
     ]
    },
    {
     "data": {
      "image/png": "[encoded data removed]",
      "text/plain": [
       "<Figure size 640x480 with 1 Axes>"
      ]
     },
     "metadata": {},
     "output_type": "display_data"
    }
   ],
   "source": [
    "naive_prediction_error = y_train - y_pred\n",
    "print(naive_prediction_error)\n",
    "\n",
    "plt.scatter(y_train, y_pred)\n",
    "plt.show()"
   ]
  },
  {
   "cell_type": "code",
   "execution_count": 49,
   "metadata": {},
   "outputs": [
    {
     "data": {
      "text/plain": [
       "0.0032939129972812883"
      ]
     },
     "execution_count": 49,
     "metadata": {},
     "output_type": "execute_result"
    }
   ],
   "source": [
    "mse = mean_squared_error(y_train, y_pred)\n",
    "mse"
   ]
  },
  {
   "cell_type": "code",
   "execution_count": 50,
   "metadata": {},
   "outputs": [
    {
     "data": {
      "text/plain": [
       "(0.13811489101354357, 0.8618851089864564)"
      ]
     },
     "execution_count": 50,
     "metadata": {},
     "output_type": "execute_result"
    }
   ],
   "source": [
    "R_squared = r2_score(y_train, y_pred)\n",
    "norm_mse_sk = 1 - R_squared\n",
    "norm_mse_sk, R_squared"
   ]
  },
  {
   "cell_type": "markdown",
   "metadata": {},
   "source": [
    "Cross validation"
   ]
  },
  {
   "cell_type": "code",
   "execution_count": 51,
   "metadata": {},
   "outputs": [
    {
     "name": "stdout",
     "output_type": "stream",
     "text": [
      "0.8369966978647086\n"
     ]
    }
   ],
   "source": [
    "from sklearn.model_selection import LeaveOneOut\n",
    "\n",
    "N = len(X_train)\n",
    "\n",
    "lr_cv = LinearRegression()\n",
    "lr_cv.fit(X_train, y_train)\n",
    "folds_r2 = cross_val_score(lr_cv, X_train, y_train, cv = 10, scoring='r2')\n",
    "lr_r2 = np.mean(folds_r2)\n",
    "print(lr_r2)"
   ]
  },
  {
   "cell_type": "markdown",
   "metadata": {},
   "source": [
    "Veiem que el model lineal de moment explica molta variablitat."
   ]
  },
  {
   "cell_type": "markdown",
   "metadata": {},
   "source": [
    "#### Regularització"
   ]
  },
  {
   "cell_type": "markdown",
   "metadata": {},
   "source": [
    "Ridge:"
   ]
  },
  {
   "cell_type": "code",
   "execution_count": 52,
   "metadata": {},
   "outputs": [],
   "source": [
    "lambdas = [1e-10, 1e-5, 1e-3, 1e-2, 0.1, 0.5, 0.7, 0.8, 0.9, 1, 2, 10, 100, 200]"
   ]
  },
  {
   "cell_type": "code",
   "execution_count": 53,
   "metadata": {},
   "outputs": [
    {
     "name": "stdout",
     "output_type": "stream",
     "text": [
      "Best Lambda: 0.8\n",
      "R2 SCORE:  0.8399796471801071\n"
     ]
    }
   ],
   "source": [
    "ridge_cv = RidgeCV(alphas=lambdas, cv = 10)\n",
    "ridge_cv.fit(X_train, y_train)\n",
    "print('Best Lambda:', ridge_cv.alpha_)\n",
    "print('R2 SCORE: ', ridge_cv.best_score_)"
   ]
  },
  {
   "cell_type": "code",
   "execution_count": 54,
   "metadata": {},
   "outputs": [
    {
     "data": {
      "text/plain": [
       "array([0.00703796, 0.0019238 , 0.00764397, 0.00877204, 0.00032319,\n",
       "       0.03363348, 0.00190439, 0.00472039, 0.01566209, 0.00071678,\n",
       "       0.00673023, 0.00081519, 0.00529414, 0.00211157, 0.00400775,\n",
       "       0.00106208, 0.00558058, 0.00941841, 0.00150803, 0.01537343,\n",
       "       0.01079459, 0.01054311, 0.00335743, 0.0002145 , 0.01083607,\n",
       "       0.00500383, 0.00479077, 0.01103528, 0.00505757, 0.00415801,\n",
       "       0.012603  , 0.00385244])"
      ]
     },
     "execution_count": 54,
     "metadata": {},
     "output_type": "execute_result"
    }
   ],
   "source": [
    "abs(ridge_cv.coef_ - lr.coef_)"
   ]
  },
  {
   "cell_type": "markdown",
   "metadata": {},
   "source": [
    "No hi ha hagut massa diferència"
   ]
  },
  {
   "cell_type": "markdown",
   "metadata": {},
   "source": [
    "#### Lasso"
   ]
  },
  {
   "cell_type": "markdown",
   "metadata": {},
   "source": [
    "Ridge:"
   ]
  },
  {
   "cell_type": "code",
   "execution_count": 55,
   "metadata": {},
   "outputs": [],
   "source": [
    "lambdas = [1e-10,1e-5, 1e-4,1e-4,1e-3, 1e-2, 1e-1, 0.2, 0.3, 0.5, 0.7, 0.8, 1, 2, 10, 100, 200]"
   ]
  },
  {
   "cell_type": "code",
   "execution_count": 56,
   "metadata": {},
   "outputs": [
    {
     "name": "stdout",
     "output_type": "stream",
     "text": [
      "Best Lambda: 0.0001\n",
      "R2 SCORE:  0.8612130785196459\n"
     ]
    },
    {
     "name": "stderr",
     "output_type": "stream",
     "text": [
      "/home/gerard/Escriptori/UPC/22_2n-Q2/AA1/AA1-env/lib/python3.10/site-packages/sklearn/linear_model/_coordinate_descent.py:664: ConvergenceWarning: Objective did not converge. You might want to increase the number of iterations. Duality gap: 0.008703677170095014, tolerance: 0.0008812333333333333\n",
      "  model = cd_fast.enet_coordinate_descent_gram(\n",
      "/home/gerard/Escriptori/UPC/22_2n-Q2/AA1/AA1-env/lib/python3.10/site-packages/sklearn/linear_model/_coordinate_descent.py:664: ConvergenceWarning: Objective did not converge. You might want to increase the number of iterations. Duality gap: 0.007606507652650141, tolerance: 0.0008989383333333334\n",
      "  model = cd_fast.enet_coordinate_descent_gram(\n",
      "/home/gerard/Escriptori/UPC/22_2n-Q2/AA1/AA1-env/lib/python3.10/site-packages/sklearn/linear_model/_coordinate_descent.py:664: ConvergenceWarning: Objective did not converge. You might want to increase the number of iterations. Duality gap: 0.010978334085886221, tolerance: 0.000936987857142857\n",
      "  model = cd_fast.enet_coordinate_descent_gram(\n",
      "/home/gerard/Escriptori/UPC/22_2n-Q2/AA1/AA1-env/lib/python3.10/site-packages/sklearn/linear_model/_coordinate_descent.py:664: ConvergenceWarning: Objective did not converge. You might want to increase the number of iterations. Duality gap: 0.009665827682695971, tolerance: 0.0008642912433862433\n",
      "  model = cd_fast.enet_coordinate_descent_gram(\n",
      "/home/gerard/Escriptori/UPC/22_2n-Q2/AA1/AA1-env/lib/python3.10/site-packages/sklearn/linear_model/_coordinate_descent.py:664: ConvergenceWarning: Objective did not converge. You might want to increase the number of iterations. Duality gap: 0.011753946319396524, tolerance: 0.0008851411904761907\n",
      "  model = cd_fast.enet_coordinate_descent_gram(\n",
      "/home/gerard/Escriptori/UPC/22_2n-Q2/AA1/AA1-env/lib/python3.10/site-packages/sklearn/linear_model/_coordinate_descent.py:664: ConvergenceWarning: Objective did not converge. You might want to increase the number of iterations. Duality gap: 0.010093732069745176, tolerance: 0.0009205262433862435\n",
      "  model = cd_fast.enet_coordinate_descent_gram(\n",
      "/home/gerard/Escriptori/UPC/22_2n-Q2/AA1/AA1-env/lib/python3.10/site-packages/sklearn/linear_model/_coordinate_descent.py:664: ConvergenceWarning: Objective did not converge. You might want to increase the number of iterations. Duality gap: 0.009147506672598338, tolerance: 0.0009100610846560844\n",
      "  model = cd_fast.enet_coordinate_descent_gram(\n",
      "/home/gerard/Escriptori/UPC/22_2n-Q2/AA1/AA1-env/lib/python3.10/site-packages/sklearn/linear_model/_coordinate_descent.py:664: ConvergenceWarning: Objective did not converge. You might want to increase the number of iterations. Duality gap: 0.00933265966232244, tolerance: 0.0008932738624338623\n",
      "  model = cd_fast.enet_coordinate_descent_gram(\n",
      "/home/gerard/Escriptori/UPC/22_2n-Q2/AA1/AA1-env/lib/python3.10/site-packages/sklearn/linear_model/_coordinate_descent.py:664: ConvergenceWarning: Objective did not converge. You might want to increase the number of iterations. Duality gap: 0.01009098027853339, tolerance: 0.0009127348148148148\n",
      "  model = cd_fast.enet_coordinate_descent_gram(\n",
      "/home/gerard/Escriptori/UPC/22_2n-Q2/AA1/AA1-env/lib/python3.10/site-packages/sklearn/linear_model/_coordinate_descent.py:664: ConvergenceWarning: Objective did not converge. You might want to increase the number of iterations. Duality gap: 0.010333360988492135, tolerance: 0.0009098801322751321\n",
      "  model = cd_fast.enet_coordinate_descent_gram(\n"
     ]
    }
   ],
   "source": [
    "lasso_cv = LassoCV(alphas=lambdas, cv = 10)\n",
    "lasso_cv.fit(X_train, y_train)\n",
    "print('Best Lambda:', lasso_cv.alpha_)\n",
    "lasso_r2 = r2_score(y_train, lasso_cv.predict(X_train))\n",
    "print('R2 SCORE: ', lasso_r2)"
   ]
  },
  {
   "cell_type": "code",
   "execution_count": 116,
   "metadata": {},
   "outputs": [
    {
     "data": {
      "text/plain": [
       "array([3.88067942e-03, 1.71722557e-03, 7.80614117e-03, 2.59783792e-03,\n",
       "       3.72638043e-04, 1.79073157e-02, 3.89900886e-03, 6.77346927e-03,\n",
       "       1.77237198e-02, 4.38076245e+09, 2.89275643e+10, 7.59756083e-04,\n",
       "       1.26345621e-02, 1.69904545e-02, 1.21165824e-02, 7.19366588e+09,\n",
       "       7.19366588e+09, 2.81290343e+09, 2.17338984e+10, 7.19366588e+09,\n",
       "       2.81290343e+09, 7.19366588e+09, 2.17338984e+10, 2.81290343e+09,\n",
       "       2.81290343e+09, 2.17338984e+10, 7.19366588e+09, 7.19366588e+09,\n",
       "       7.19366588e+09, 7.19366588e+09, 7.19366588e+09, 7.19366588e+09])"
      ]
     },
     "execution_count": 116,
     "metadata": {},
     "output_type": "execute_result"
    }
   ],
   "source": [
    "abs(lasso_cv.coef_ - lr.coef_)"
   ]
  },
  {
   "cell_type": "markdown",
   "metadata": {},
   "source": [
    "No hi ha hagut massa diferència"
   ]
  },
  {
   "cell_type": "markdown",
   "metadata": {},
   "source": []
  },
  {
   "cell_type": "markdown",
   "metadata": {},
   "source": [
    "## Random forest i Decision tree"
   ]
  },
  {
   "cell_type": "code",
   "execution_count": 62,
   "metadata": {},
   "outputs": [
    {
     "name": "stdout",
     "output_type": "stream",
     "text": [
      "mse = 0.0008322764234534582\n",
      "r2 = 0.9651023668162174\n",
      "1-r2 = 0.034897633183782584\n",
      "OOB accuracy= 0.8326346108919246\n"
     ]
    }
   ],
   "source": [
    "rf = RandomForestRegressor(oob_score=True)\n",
    "model_rf = rf.fit(X_train, y_train)\n",
    "\n",
    "y_pred_tree = model_rf.predict(X_train)\n",
    "\n",
    "r2 = r2_score(y_train, y_pred_tree)\n",
    "mse = mean_squared_error(y_train, y_pred_tree)\n",
    "print(f'{mse = }')\n",
    "print(f'{r2 = }')\n",
    "print(f'{1-r2 = }')\n",
    "print('OOB accuracy=', model_rf.oob_score_)"
   ]
  },
  {
   "cell_type": "markdown",
   "metadata": {},
   "source": [
    "MOLT baix error -> Però segurament és degut a overfitting (salt entre r2_score i OOB score)\n",
    "La precisió pel OOB set és bastant bona, però."
   ]
  },
  {
   "cell_type": "markdown",
   "metadata": {},
   "source": [
    "Podriem afegir GridSearch (tant al DecisionTree com al RandomForest) !"
   ]
  },
  {
   "cell_type": "markdown",
   "metadata": {},
   "source": [
    "### GridSearch per Decision Tree"
   ]
  },
  {
   "cell_type": "markdown",
   "metadata": {},
   "source": [
    "Anem a veure si un Decision Tree SOL és capaç de fer una bona regressió."
   ]
  },
  {
   "cell_type": "code",
   "execution_count": 163,
   "metadata": {},
   "outputs": [],
   "source": [
    "from sklearn.tree import DecisionTreeRegressor\n",
    "from sklearn.model_selection import GridSearchCV\n",
    "from sklearn.metrics import make_scorer, r2_score, mean_squared_error, mean_absolute_error, median_absolute_error"
   ]
  },
  {
   "cell_type": "code",
   "execution_count": null,
   "metadata": {},
   "outputs": [],
   "source": [
    "scoring = {\n",
    "    'r2': make_scorer(r2_score),\n",
    "    'neg_mean_absolute_error': make_scorer(mean_absolute_error, greater_is_better=False),\n",
    "    'neg_mean_squared_error': make_scorer(mean_squared_error, greater_is_better=False)\n",
    "}"
   ]
  },
  {
   "cell_type": "code",
   "execution_count": 120,
   "metadata": {},
   "outputs": [],
   "source": [
    "param_grid = {\n",
    "    'max_depth': [8, 10, 12],\n",
    "    'min_samples_split': [2, 3, 4, 5],\n",
    "    'min_samples_leaf': [1, 2, 3, 4],\n",
    "    'max_features': [None],\n",
    "    'criterion': ['squared_error'],\n",
    "    'splitter': ['random'],\n",
    "    'max_leaf_nodes': [15, 20, 25],\n",
    "    'min_impurity_decrease': [0.0]\n",
    "}\n",
    "\n",
    "dt = DecisionTreeRegressor(random_state=42)\n",
    "\n",
    "grid_search = GridSearchCV(dt, param_grid, scoring=scoring, refit='r2', return_train_score=True, n_jobs=-1)\n",
    "\n",
    "grid_search.fit(X_train, y_train)\n",
    "pass"
   ]
  },
  {
   "cell_type": "code",
   "execution_count": 121,
   "metadata": {},
   "outputs": [
    {
     "data": {
      "text/html": [
       "<div>\n",
       "<style scoped>\n",
       "    .dataframe tbody tr th:only-of-type {\n",
       "        vertical-align: middle;\n",
       "    }\n",
       "\n",
       "    .dataframe tbody tr th {\n",
       "        vertical-align: top;\n",
       "    }\n",
       "\n",
       "    .dataframe thead th {\n",
       "        text-align: right;\n",
       "    }\n",
       "</style>\n",
       "<table border=\"1\" class=\"dataframe\">\n",
       "  <thead>\n",
       "    <tr style=\"text-align: right;\">\n",
       "      <th></th>\n",
       "      <th>param_max_depth</th>\n",
       "      <th>param_min_samples_split</th>\n",
       "      <th>param_min_samples_leaf</th>\n",
       "      <th>param_max_features</th>\n",
       "      <th>param_criterion</th>\n",
       "      <th>param_splitter</th>\n",
       "      <th>param_max_leaf_nodes</th>\n",
       "      <th>param_min_impurity_decrease</th>\n",
       "      <th>mean_test_r2</th>\n",
       "      <th>mean_test_neg_mean_absolute_error</th>\n",
       "      <th>mean_test_neg_mean_squared_error</th>\n",
       "    </tr>\n",
       "  </thead>\n",
       "  <tbody>\n",
       "    <tr>\n",
       "      <th>68</th>\n",
       "      <td>10</td>\n",
       "      <td>2</td>\n",
       "      <td>2</td>\n",
       "      <td>None</td>\n",
       "      <td>squared_error</td>\n",
       "      <td>random</td>\n",
       "      <td>20</td>\n",
       "      <td>0.0</td>\n",
       "      <td>0.841932</td>\n",
       "      <td>-0.046737</td>\n",
       "      <td>-0.003743</td>\n",
       "    </tr>\n",
       "    <tr>\n",
       "      <th>70</th>\n",
       "      <td>10</td>\n",
       "      <td>4</td>\n",
       "      <td>2</td>\n",
       "      <td>None</td>\n",
       "      <td>squared_error</td>\n",
       "      <td>random</td>\n",
       "      <td>20</td>\n",
       "      <td>0.0</td>\n",
       "      <td>0.841932</td>\n",
       "      <td>-0.046737</td>\n",
       "      <td>-0.003743</td>\n",
       "    </tr>\n",
       "    <tr>\n",
       "      <th>69</th>\n",
       "      <td>10</td>\n",
       "      <td>3</td>\n",
       "      <td>2</td>\n",
       "      <td>None</td>\n",
       "      <td>squared_error</td>\n",
       "      <td>random</td>\n",
       "      <td>20</td>\n",
       "      <td>0.0</td>\n",
       "      <td>0.841932</td>\n",
       "      <td>-0.046737</td>\n",
       "      <td>-0.003743</td>\n",
       "    </tr>\n",
       "    <tr>\n",
       "      <th>91</th>\n",
       "      <td>10</td>\n",
       "      <td>5</td>\n",
       "      <td>3</td>\n",
       "      <td>None</td>\n",
       "      <td>squared_error</td>\n",
       "      <td>random</td>\n",
       "      <td>25</td>\n",
       "      <td>0.0</td>\n",
       "      <td>0.841433</td>\n",
       "      <td>-0.046643</td>\n",
       "      <td>-0.003751</td>\n",
       "    </tr>\n",
       "    <tr>\n",
       "      <th>90</th>\n",
       "      <td>10</td>\n",
       "      <td>4</td>\n",
       "      <td>3</td>\n",
       "      <td>None</td>\n",
       "      <td>squared_error</td>\n",
       "      <td>random</td>\n",
       "      <td>25</td>\n",
       "      <td>0.0</td>\n",
       "      <td>0.841433</td>\n",
       "      <td>-0.046643</td>\n",
       "      <td>-0.003751</td>\n",
       "    </tr>\n",
       "  </tbody>\n",
       "</table>\n",
       "</div>"
      ],
      "text/plain": [
       "   param_max_depth param_min_samples_split param_min_samples_leaf  \\\n",
       "68              10                       2                      2   \n",
       "70              10                       4                      2   \n",
       "69              10                       3                      2   \n",
       "91              10                       5                      3   \n",
       "90              10                       4                      3   \n",
       "\n",
       "   param_max_features param_criterion param_splitter param_max_leaf_nodes  \\\n",
       "68               None   squared_error         random                   20   \n",
       "70               None   squared_error         random                   20   \n",
       "69               None   squared_error         random                   20   \n",
       "91               None   squared_error         random                   25   \n",
       "90               None   squared_error         random                   25   \n",
       "\n",
       "   param_min_impurity_decrease  mean_test_r2  \\\n",
       "68                         0.0      0.841932   \n",
       "70                         0.0      0.841932   \n",
       "69                         0.0      0.841932   \n",
       "91                         0.0      0.841433   \n",
       "90                         0.0      0.841433   \n",
       "\n",
       "    mean_test_neg_mean_absolute_error  mean_test_neg_mean_squared_error  \n",
       "68                          -0.046737                         -0.003743  \n",
       "70                          -0.046737                         -0.003743  \n",
       "69                          -0.046737                         -0.003743  \n",
       "91                          -0.046643                         -0.003751  \n",
       "90                          -0.046643                         -0.003751  "
      ]
     },
     "execution_count": 121,
     "metadata": {},
     "output_type": "execute_result"
    }
   ],
   "source": [
    "scoring_cols = [\n",
    "    'param_max_depth', 'param_min_samples_split', 'param_min_samples_leaf', 'param_max_features', 'param_criterion', 'param_splitter', 'param_max_leaf_nodes', 'param_min_impurity_decrease',\n",
    "    'mean_test_r2', 'mean_test_neg_mean_absolute_error', 'mean_test_neg_mean_squared_error'\n",
    "]\n",
    "\n",
    "pd.DataFrame(grid_search.cv_results_).sort_values(by='mean_test_r2', ascending=False)[scoring_cols].head()"
   ]
  },
  {
   "cell_type": "markdown",
   "metadata": {},
   "source": [
    "Un bon decision tree! Quasi el 80% de la variància explicada per ambdós nivell de folds. És bàsicament tant bo com el RF sense Grid Search.\n",
    "\n",
    "Coses a veure: hi ha poc overfitting perquè el r2 mitjà de la CV és quasi igual al de r2 de generalització?"
   ]
  },
  {
   "cell_type": "markdown",
   "metadata": {},
   "source": [
    "### GridSearch per Random Forest"
   ]
  },
  {
   "cell_type": "code",
   "execution_count": 150,
   "metadata": {},
   "outputs": [],
   "source": [
    "param_grid = {\n",
    "    'n_estimators': [100, 200], # 200 is the best, tried for 10 and 100 too\n",
    "    'max_depth': [9, 10, 11],  # values around 10. 8 was the best\n",
    "    'min_samples_split': [8, 9, 10],  # values around 4\n",
    "    'min_samples_leaf': [1, 2, 4],  # values around 7. 5 was best\n",
    "    'max_features': [None],  # including None as it was the best in the previous run\n",
    "    'criterion': ['squared_error'],\n",
    "    'max_leaf_nodes': [40, 45, 50],\n",
    "    'min_impurity_decrease': [0.0]\n",
    "}\n",
    "\n",
    "rf = RandomForestRegressor(random_state=42)\n",
    "\n",
    "grid_search = GridSearchCV(rf, param_grid, scoring=scoring, refit='r2', return_train_score=True, n_jobs=-1)\n",
    "\n",
    "grid_search.fit(X_train, y_train)\n",
    "\n",
    "best_estimator = grid_search.best_estimator_\n",
    "best_params = grid_search.best_params_\n",
    "best_score = grid_search.best_score_\n",
    "\n",
    "pass"
   ]
  },
  {
   "cell_type": "code",
   "execution_count": 148,
   "metadata": {},
   "outputs": [
    {
     "data": {
      "text/html": [
       "<div>\n",
       "<style scoped>\n",
       "    .dataframe tbody tr th:only-of-type {\n",
       "        vertical-align: middle;\n",
       "    }\n",
       "\n",
       "    .dataframe tbody tr th {\n",
       "        vertical-align: top;\n",
       "    }\n",
       "\n",
       "    .dataframe thead th {\n",
       "        text-align: right;\n",
       "    }\n",
       "</style>\n",
       "<table border=\"1\" class=\"dataframe\">\n",
       "  <thead>\n",
       "    <tr style=\"text-align: right;\">\n",
       "      <th></th>\n",
       "      <th>param_n_estimators</th>\n",
       "      <th>param_max_depth</th>\n",
       "      <th>param_min_samples_split</th>\n",
       "      <th>param_min_samples_leaf</th>\n",
       "      <th>param_max_features</th>\n",
       "      <th>param_criterion</th>\n",
       "      <th>param_max_leaf_nodes</th>\n",
       "      <th>param_min_impurity_decrease</th>\n",
       "      <th>mean_test_r2</th>\n",
       "      <th>mean_test_neg_mean_absolute_error</th>\n",
       "      <th>mean_test_neg_mean_squared_error</th>\n",
       "    </tr>\n",
       "  </thead>\n",
       "  <tbody>\n",
       "    <tr>\n",
       "      <th>38</th>\n",
       "      <td>200</td>\n",
       "      <td>10</td>\n",
       "      <td>9</td>\n",
       "      <td>1</td>\n",
       "      <td>None</td>\n",
       "      <td>squared_error</td>\n",
       "      <td>45</td>\n",
       "      <td>0.0</td>\n",
       "      <td>0.836583</td>\n",
       "      <td>-0.046997</td>\n",
       "      <td>-0.003885</td>\n",
       "    </tr>\n",
       "    <tr>\n",
       "      <th>47</th>\n",
       "      <td>200</td>\n",
       "      <td>10</td>\n",
       "      <td>9</td>\n",
       "      <td>1</td>\n",
       "      <td>None</td>\n",
       "      <td>squared_error</td>\n",
       "      <td>50</td>\n",
       "      <td>0.0</td>\n",
       "      <td>0.836573</td>\n",
       "      <td>-0.046997</td>\n",
       "      <td>-0.003885</td>\n",
       "    </tr>\n",
       "    <tr>\n",
       "      <th>29</th>\n",
       "      <td>200</td>\n",
       "      <td>10</td>\n",
       "      <td>9</td>\n",
       "      <td>1</td>\n",
       "      <td>None</td>\n",
       "      <td>squared_error</td>\n",
       "      <td>40</td>\n",
       "      <td>0.0</td>\n",
       "      <td>0.836569</td>\n",
       "      <td>-0.047008</td>\n",
       "      <td>-0.003885</td>\n",
       "    </tr>\n",
       "    <tr>\n",
       "      <th>2</th>\n",
       "      <td>200</td>\n",
       "      <td>9</td>\n",
       "      <td>9</td>\n",
       "      <td>1</td>\n",
       "      <td>None</td>\n",
       "      <td>squared_error</td>\n",
       "      <td>40</td>\n",
       "      <td>0.0</td>\n",
       "      <td>0.836506</td>\n",
       "      <td>-0.047298</td>\n",
       "      <td>-0.003889</td>\n",
       "    </tr>\n",
       "    <tr>\n",
       "      <th>11</th>\n",
       "      <td>200</td>\n",
       "      <td>9</td>\n",
       "      <td>9</td>\n",
       "      <td>1</td>\n",
       "      <td>None</td>\n",
       "      <td>squared_error</td>\n",
       "      <td>45</td>\n",
       "      <td>0.0</td>\n",
       "      <td>0.836505</td>\n",
       "      <td>-0.047294</td>\n",
       "      <td>-0.003889</td>\n",
       "    </tr>\n",
       "  </tbody>\n",
       "</table>\n",
       "</div>"
      ],
      "text/plain": [
       "   param_n_estimators param_max_depth param_min_samples_split  \\\n",
       "38                200              10                       9   \n",
       "47                200              10                       9   \n",
       "29                200              10                       9   \n",
       "2                 200               9                       9   \n",
       "11                200               9                       9   \n",
       "\n",
       "   param_min_samples_leaf param_max_features param_criterion  \\\n",
       "38                      1               None   squared_error   \n",
       "47                      1               None   squared_error   \n",
       "29                      1               None   squared_error   \n",
       "2                       1               None   squared_error   \n",
       "11                      1               None   squared_error   \n",
       "\n",
       "   param_max_leaf_nodes param_min_impurity_decrease  mean_test_r2  \\\n",
       "38                   45                         0.0      0.836583   \n",
       "47                   50                         0.0      0.836573   \n",
       "29                   40                         0.0      0.836569   \n",
       "2                    40                         0.0      0.836506   \n",
       "11                   45                         0.0      0.836505   \n",
       "\n",
       "    mean_test_neg_mean_absolute_error  mean_test_neg_mean_squared_error  \n",
       "38                          -0.046997                         -0.003885  \n",
       "47                          -0.046997                         -0.003885  \n",
       "29                          -0.047008                         -0.003885  \n",
       "2                           -0.047298                         -0.003889  \n",
       "11                          -0.047294                         -0.003889  "
      ]
     },
     "execution_count": 148,
     "metadata": {},
     "output_type": "execute_result"
    }
   ],
   "source": [
    "scoring_cols = [\n",
    "    'param_n_estimators', 'param_max_depth', 'param_min_samples_split', 'param_min_samples_leaf', 'param_max_features', 'param_criterion', 'param_max_leaf_nodes', 'param_min_impurity_decrease',\n",
    "    'mean_test_r2', 'mean_test_neg_mean_absolute_error', 'mean_test_neg_mean_squared_error'\n",
    "]\n",
    "\n",
    "pd.DataFrame(grid_search.cv_results_).sort_values(by='mean_test_r2', ascending=False)[scoring_cols].head()"
   ]
  },
  {
   "cell_type": "code",
   "execution_count": 151,
   "metadata": {},
   "outputs": [
    {
     "name": "stdout",
     "output_type": "stream",
     "text": [
      "OOB accuracy= 0.8437094379464339\n"
     ]
    }
   ],
   "source": [
    "best_rf = RandomForestRegressor(oob_score=True,random_state=42,**best_params)\n",
    "best_rf.fit(X_train, y_train)\n",
    "print('OOB accuracy=', best_rf.oob_score_)"
   ]
  },
  {
   "cell_type": "code",
   "execution_count": 162,
   "metadata": {},
   "outputs": [
    {
     "name": "stdout",
     "output_type": "stream",
     "text": [
      "0.7921190677869969\n"
     ]
    },
    {
     "data": {
      "image/png": "[encoded data removed]",
      "text/plain": [
       "<Figure size 640x480 with 1 Axes>"
      ]
     },
     "metadata": {},
     "output_type": "display_data"
    }
   ],
   "source": [
    "y_pred_best_rf = best_rf.predict(X_test)\n",
    "print(r2_score(y_test, y_pred_best_rf))\n",
    "\n",
    "plt.scatter(y_test, y_pred_best_rf, alpha=0.5, s=20)\n",
    "plt.show()"
   ]
  },
  {
   "cell_type": "markdown",
   "metadata": {},
   "source": []
  },
  {
   "cell_type": "markdown",
   "metadata": {},
   "source": [
    "## SVM"
   ]
  },
  {
   "cell_type": "code",
   "execution_count": 164,
   "metadata": {},
   "outputs": [],
   "source": [
    "from sklearn.svm import LinearSVR, SVR\n",
    "from sklearn.neighbors import KNeighborsRegressor"
   ]
  },
  {
   "cell_type": "code",
   "execution_count": 165,
   "metadata": {},
   "outputs": [],
   "source": [
    "def compute_metrics(y_pred, y_real):\n",
    "    r2 = r2_score(y_pred,y_real)\n",
    "    median_abs_e = median_absolute_error(y_pred, y_real)\n",
    "    mse = mean_squared_error(y_pred, y_real)\n",
    "    mean_abs_e = mean_absolute_error(y_pred, y_real)\n",
    "    return [r2, mse, median_abs_e, mean_abs_e]"
   ]
  },
  {
   "cell_type": "code",
   "execution_count": 173,
   "metadata": {},
   "outputs": [],
   "source": [
    "results = pd.DataFrame(columns=['Kernel', 'C', 'epsilon', 'R2', 'MSE', 'median_absolute_error', 'mean_absolute_error'])"
   ]
  },
  {
   "cell_type": "markdown",
   "metadata": {},
   "source": [
    "Baseline el KNN"
   ]
  },
  {
   "cell_type": "code",
   "execution_count": 178,
   "metadata": {},
   "outputs": [
    {
     "name": "stdout",
     "output_type": "stream",
     "text": [
      "    Kernel  C epsilon        R2       MSE median_absolute_error mean_absolute_error\n",
      "KNN      -  -       -  0.653778  0.005444                 0.041            0.056057\n"
     ]
    },
    {
     "data": {
      "image/png": "[encoded data removed]",
      "text/plain": [
       "<Figure size 640x480 with 1 Axes>"
      ]
     },
     "metadata": {},
     "output_type": "display_data"
    }
   ],
   "source": [
    "knn = KNeighborsRegressor()\n",
    "\n",
    "knn.fit(X_train,y_train)\n",
    "y_pred = knn.predict(X_test)\n",
    "\n",
    "\n",
    "plt.scatter(x=y_test, y=y_pred, alpha=0.5, s=20)\n",
    "\n",
    "results.loc['KNN', :] = ['-', '-','-'] + compute_metrics(y_pred,y_test)\n",
    "print(results)"
   ]
  },
  {
   "cell_type": "code",
   "execution_count": 180,
   "metadata": {},
   "outputs": [
    {
     "name": "stderr",
     "output_type": "stream",
     "text": [
      "/home/gerard/Escriptori/UPC/22_2n-Q2/AA1/AA1-env/lib/python3.10/site-packages/sklearn/svm/_classes.py:31: FutureWarning: The default value of `dual` will change from `True` to `'auto'` in 1.5. Set the value of `dual` explicitly to suppress the warning.\n",
      "  warnings.warn(\n",
      "/home/gerard/Escriptori/UPC/22_2n-Q2/AA1/AA1-env/lib/python3.10/site-packages/sklearn/svm/_base.py:1237: ConvergenceWarning: Liblinear failed to converge, increase the number of iterations.\n",
      "  warnings.warn(\n"
     ]
    },
    {
     "data": {
      "text/html": [
       "<div>\n",
       "<style scoped>\n",
       "    .dataframe tbody tr th:only-of-type {\n",
       "        vertical-align: middle;\n",
       "    }\n",
       "\n",
       "    .dataframe tbody tr th {\n",
       "        vertical-align: top;\n",
       "    }\n",
       "\n",
       "    .dataframe thead th {\n",
       "        text-align: right;\n",
       "    }\n",
       "</style>\n",
       "<table border=\"1\" class=\"dataframe\">\n",
       "  <thead>\n",
       "    <tr style=\"text-align: right;\">\n",
       "      <th></th>\n",
       "      <th>Kernel</th>\n",
       "      <th>C</th>\n",
       "      <th>epsilon</th>\n",
       "      <th>R2</th>\n",
       "      <th>MSE</th>\n",
       "      <th>median_absolute_error</th>\n",
       "      <th>mean_absolute_error</th>\n",
       "    </tr>\n",
       "  </thead>\n",
       "  <tbody>\n",
       "    <tr>\n",
       "      <th>LinearSVR-default</th>\n",
       "      <td>linear</td>\n",
       "      <td>1</td>\n",
       "      <td>0</td>\n",
       "      <td>0.77846</td>\n",
       "      <td>0.003802</td>\n",
       "      <td>0.026841</td>\n",
       "      <td>0.043269</td>\n",
       "    </tr>\n",
       "    <tr>\n",
       "      <th>KNN</th>\n",
       "      <td>-</td>\n",
       "      <td>-</td>\n",
       "      <td>-</td>\n",
       "      <td>0.653778</td>\n",
       "      <td>0.005444</td>\n",
       "      <td>0.041</td>\n",
       "      <td>0.056057</td>\n",
       "    </tr>\n",
       "  </tbody>\n",
       "</table>\n",
       "</div>"
      ],
      "text/plain": [
       "                   Kernel  C epsilon        R2       MSE median_absolute_error mean_absolute_error\n",
       "LinearSVR-default  linear  1       0   0.77846  0.003802              0.026841            0.043269\n",
       "KNN                     -  -       -  0.653778  0.005444                 0.041            0.056057"
      ]
     },
     "execution_count": 180,
     "metadata": {},
     "output_type": "execute_result"
    },
    {
     "data": {
      "image/png": "[encoded data removed]",
      "text/plain": [
       "<Figure size 640x480 with 1 Axes>"
      ]
     },
     "metadata": {},
     "output_type": "display_data"
    }
   ],
   "source": [
    "svm = LinearSVR()\n",
    "\n",
    "svm.fit(X_train,y_train)\n",
    "y_pred = svm.predict(X_test)\n",
    "\n",
    "results.loc['LinearSVR-default', :] = ['linear',1,0] + compute_metrics(y_pred,y_test)\n",
    "\n",
    "plt.scatter(x=y_test, y=y_pred, alpha=0.5, s=20)\n",
    "\n",
    "results.sort_values(by='R2', ascending=False)"
   ]
  },
  {
   "cell_type": "markdown",
   "metadata": {},
   "source": [
    "SVM with parameters \"gridsearch\"?"
   ]
  },
  {
   "cell_type": "code",
   "execution_count": 186,
   "metadata": {},
   "outputs": [],
   "source": [
    "cv_results = pd.DataFrame(columns=['Kernel', 'C', 'epsilon', 'R2', 'MSE', 'median_absolute_error', 'mean_absolute_error'])\n",
    "\n",
    "Cs = [5, 10, 15, 20, 30] # values less than 10\n",
    "epsilons = [0.0001, 0.00001, 0.000001, 0.0000001, 0.0]\n",
    "for c in Cs:\n",
    "    for epsilon in epsilons:\n",
    "        svm = SVR(kernel='linear', C=c,epsilon=epsilon)\n",
    "        svm.fit(X_train,y_train)\n",
    "        y_pred = svm.predict(X_test)\n",
    "        cv_results.loc['LinearSVR-{}-{}'.format(c,epsilon), :] = ['linear', c, epsilon] + compute_metrics(y_pred,y_test)\n",
    "        \n",
    "best = cv_results.sort_values(by='R2',ascending=False).iloc[0,:]\n",
    "results.loc['LinearSVR-best',:] = best"
   ]
  },
  {
   "cell_type": "code",
   "execution_count": 187,
   "metadata": {},
   "outputs": [
    {
     "data": {
      "text/html": [
       "<div>\n",
       "<style scoped>\n",
       "    .dataframe tbody tr th:only-of-type {\n",
       "        vertical-align: middle;\n",
       "    }\n",
       "\n",
       "    .dataframe tbody tr th {\n",
       "        vertical-align: top;\n",
       "    }\n",
       "\n",
       "    .dataframe thead th {\n",
       "        text-align: right;\n",
       "    }\n",
       "</style>\n",
       "<table border=\"1\" class=\"dataframe\">\n",
       "  <thead>\n",
       "    <tr style=\"text-align: right;\">\n",
       "      <th></th>\n",
       "      <th>Kernel</th>\n",
       "      <th>C</th>\n",
       "      <th>epsilon</th>\n",
       "      <th>R2</th>\n",
       "      <th>MSE</th>\n",
       "      <th>median_absolute_error</th>\n",
       "      <th>mean_absolute_error</th>\n",
       "    </tr>\n",
       "  </thead>\n",
       "  <tbody>\n",
       "    <tr>\n",
       "      <th>LinearSVR-15-0.0</th>\n",
       "      <td>linear</td>\n",
       "      <td>15</td>\n",
       "      <td>0.0</td>\n",
       "      <td>0.768133</td>\n",
       "      <td>0.003914</td>\n",
       "      <td>0.02645</td>\n",
       "      <td>0.044056</td>\n",
       "    </tr>\n",
       "    <tr>\n",
       "      <th>LinearSVR-5-0.0001</th>\n",
       "      <td>linear</td>\n",
       "      <td>5</td>\n",
       "      <td>0.0001</td>\n",
       "      <td>0.767927</td>\n",
       "      <td>0.003913</td>\n",
       "      <td>0.025775</td>\n",
       "      <td>0.044017</td>\n",
       "    </tr>\n",
       "    <tr>\n",
       "      <th>LinearSVR-10-0.0001</th>\n",
       "      <td>linear</td>\n",
       "      <td>10</td>\n",
       "      <td>0.0001</td>\n",
       "      <td>0.767556</td>\n",
       "      <td>0.003917</td>\n",
       "      <td>0.025567</td>\n",
       "      <td>0.044076</td>\n",
       "    </tr>\n",
       "    <tr>\n",
       "      <th>LinearSVR-15-1e-06</th>\n",
       "      <td>linear</td>\n",
       "      <td>15</td>\n",
       "      <td>0.000001</td>\n",
       "      <td>0.766983</td>\n",
       "      <td>0.003924</td>\n",
       "      <td>0.025688</td>\n",
       "      <td>0.044219</td>\n",
       "    </tr>\n",
       "    <tr>\n",
       "      <th>LinearSVR-20-1e-07</th>\n",
       "      <td>linear</td>\n",
       "      <td>20</td>\n",
       "      <td>0.0</td>\n",
       "      <td>0.766954</td>\n",
       "      <td>0.003924</td>\n",
       "      <td>0.02566</td>\n",
       "      <td>0.044205</td>\n",
       "    </tr>\n",
       "    <tr>\n",
       "      <th>LinearSVR-30-0.0001</th>\n",
       "      <td>linear</td>\n",
       "      <td>30</td>\n",
       "      <td>0.0001</td>\n",
       "      <td>0.766899</td>\n",
       "      <td>0.003924</td>\n",
       "      <td>0.025239</td>\n",
       "      <td>0.04415</td>\n",
       "    </tr>\n",
       "    <tr>\n",
       "      <th>LinearSVR-10-1e-07</th>\n",
       "      <td>linear</td>\n",
       "      <td>10</td>\n",
       "      <td>0.0</td>\n",
       "      <td>0.766814</td>\n",
       "      <td>0.003925</td>\n",
       "      <td>0.025561</td>\n",
       "      <td>0.04419</td>\n",
       "    </tr>\n",
       "    <tr>\n",
       "      <th>LinearSVR-30-1e-05</th>\n",
       "      <td>linear</td>\n",
       "      <td>30</td>\n",
       "      <td>0.00001</td>\n",
       "      <td>0.766727</td>\n",
       "      <td>0.003928</td>\n",
       "      <td>0.025253</td>\n",
       "      <td>0.044238</td>\n",
       "    </tr>\n",
       "    <tr>\n",
       "      <th>LinearSVR-20-0.0001</th>\n",
       "      <td>linear</td>\n",
       "      <td>20</td>\n",
       "      <td>0.0001</td>\n",
       "      <td>0.766723</td>\n",
       "      <td>0.003923</td>\n",
       "      <td>0.025477</td>\n",
       "      <td>0.044192</td>\n",
       "    </tr>\n",
       "    <tr>\n",
       "      <th>LinearSVR-30-0.0</th>\n",
       "      <td>linear</td>\n",
       "      <td>30</td>\n",
       "      <td>0.0</td>\n",
       "      <td>0.766721</td>\n",
       "      <td>0.003926</td>\n",
       "      <td>0.025067</td>\n",
       "      <td>0.044252</td>\n",
       "    </tr>\n",
       "    <tr>\n",
       "      <th>LinearSVR-15-0.0001</th>\n",
       "      <td>linear</td>\n",
       "      <td>15</td>\n",
       "      <td>0.0001</td>\n",
       "      <td>0.766702</td>\n",
       "      <td>0.003926</td>\n",
       "      <td>0.025281</td>\n",
       "      <td>0.04423</td>\n",
       "    </tr>\n",
       "    <tr>\n",
       "      <th>LinearSVR-20-1e-05</th>\n",
       "      <td>linear</td>\n",
       "      <td>20</td>\n",
       "      <td>0.00001</td>\n",
       "      <td>0.766658</td>\n",
       "      <td>0.003929</td>\n",
       "      <td>0.025703</td>\n",
       "      <td>0.044254</td>\n",
       "    </tr>\n",
       "    <tr>\n",
       "      <th>LinearSVR-10-1e-05</th>\n",
       "      <td>linear</td>\n",
       "      <td>10</td>\n",
       "      <td>0.00001</td>\n",
       "      <td>0.766641</td>\n",
       "      <td>0.003925</td>\n",
       "      <td>0.025516</td>\n",
       "      <td>0.044217</td>\n",
       "    </tr>\n",
       "    <tr>\n",
       "      <th>LinearSVR-30-1e-07</th>\n",
       "      <td>linear</td>\n",
       "      <td>30</td>\n",
       "      <td>0.0</td>\n",
       "      <td>0.766553</td>\n",
       "      <td>0.003933</td>\n",
       "      <td>0.02525</td>\n",
       "      <td>0.044265</td>\n",
       "    </tr>\n",
       "    <tr>\n",
       "      <th>LinearSVR-15-1e-07</th>\n",
       "      <td>linear</td>\n",
       "      <td>15</td>\n",
       "      <td>0.0</td>\n",
       "      <td>0.766537</td>\n",
       "      <td>0.003926</td>\n",
       "      <td>0.025554</td>\n",
       "      <td>0.044195</td>\n",
       "    </tr>\n",
       "    <tr>\n",
       "      <th>LinearSVR-10-1e-06</th>\n",
       "      <td>linear</td>\n",
       "      <td>10</td>\n",
       "      <td>0.000001</td>\n",
       "      <td>0.76649</td>\n",
       "      <td>0.003927</td>\n",
       "      <td>0.025523</td>\n",
       "      <td>0.044189</td>\n",
       "    </tr>\n",
       "    <tr>\n",
       "      <th>LinearSVR-20-1e-06</th>\n",
       "      <td>linear</td>\n",
       "      <td>20</td>\n",
       "      <td>0.000001</td>\n",
       "      <td>0.766444</td>\n",
       "      <td>0.003929</td>\n",
       "      <td>0.025474</td>\n",
       "      <td>0.04421</td>\n",
       "    </tr>\n",
       "    <tr>\n",
       "      <th>LinearSVR-15-1e-05</th>\n",
       "      <td>linear</td>\n",
       "      <td>15</td>\n",
       "      <td>0.00001</td>\n",
       "      <td>0.766391</td>\n",
       "      <td>0.003928</td>\n",
       "      <td>0.025385</td>\n",
       "      <td>0.044198</td>\n",
       "    </tr>\n",
       "    <tr>\n",
       "      <th>LinearSVR-5-0.0</th>\n",
       "      <td>linear</td>\n",
       "      <td>5</td>\n",
       "      <td>0.0</td>\n",
       "      <td>0.766388</td>\n",
       "      <td>0.003931</td>\n",
       "      <td>0.02557</td>\n",
       "      <td>0.044187</td>\n",
       "    </tr>\n",
       "    <tr>\n",
       "      <th>LinearSVR-10-0.0</th>\n",
       "      <td>linear</td>\n",
       "      <td>10</td>\n",
       "      <td>0.0</td>\n",
       "      <td>0.766385</td>\n",
       "      <td>0.003929</td>\n",
       "      <td>0.025273</td>\n",
       "      <td>0.044172</td>\n",
       "    </tr>\n",
       "    <tr>\n",
       "      <th>LinearSVR-5-1e-06</th>\n",
       "      <td>linear</td>\n",
       "      <td>5</td>\n",
       "      <td>0.000001</td>\n",
       "      <td>0.766322</td>\n",
       "      <td>0.003933</td>\n",
       "      <td>0.025719</td>\n",
       "      <td>0.044175</td>\n",
       "    </tr>\n",
       "    <tr>\n",
       "      <th>LinearSVR-20-0.0</th>\n",
       "      <td>linear</td>\n",
       "      <td>20</td>\n",
       "      <td>0.0</td>\n",
       "      <td>0.766233</td>\n",
       "      <td>0.003936</td>\n",
       "      <td>0.02557</td>\n",
       "      <td>0.044243</td>\n",
       "    </tr>\n",
       "    <tr>\n",
       "      <th>LinearSVR-5-1e-05</th>\n",
       "      <td>linear</td>\n",
       "      <td>5</td>\n",
       "      <td>0.00001</td>\n",
       "      <td>0.766126</td>\n",
       "      <td>0.003937</td>\n",
       "      <td>0.025725</td>\n",
       "      <td>0.04422</td>\n",
       "    </tr>\n",
       "    <tr>\n",
       "      <th>LinearSVR-5-1e-07</th>\n",
       "      <td>linear</td>\n",
       "      <td>5</td>\n",
       "      <td>0.0</td>\n",
       "      <td>0.766087</td>\n",
       "      <td>0.003936</td>\n",
       "      <td>0.025552</td>\n",
       "      <td>0.04419</td>\n",
       "    </tr>\n",
       "    <tr>\n",
       "      <th>LinearSVR-30-1e-06</th>\n",
       "      <td>linear</td>\n",
       "      <td>30</td>\n",
       "      <td>0.000001</td>\n",
       "      <td>0.764481</td>\n",
       "      <td>0.00395</td>\n",
       "      <td>0.024479</td>\n",
       "      <td>0.044213</td>\n",
       "    </tr>\n",
       "  </tbody>\n",
       "</table>\n",
       "</div>"
      ],
      "text/plain": [
       "                     Kernel   C   epsilon        R2       MSE median_absolute_error  \\\n",
       "LinearSVR-15-0.0     linear  15       0.0  0.768133  0.003914               0.02645   \n",
       "LinearSVR-5-0.0001   linear   5    0.0001  0.767927  0.003913              0.025775   \n",
       "LinearSVR-10-0.0001  linear  10    0.0001  0.767556  0.003917              0.025567   \n",
       "LinearSVR-15-1e-06   linear  15  0.000001  0.766983  0.003924              0.025688   \n",
       "LinearSVR-20-1e-07   linear  20       0.0  0.766954  0.003924               0.02566   \n",
       "LinearSVR-30-0.0001  linear  30    0.0001  0.766899  0.003924              0.025239   \n",
       "LinearSVR-10-1e-07   linear  10       0.0  0.766814  0.003925              0.025561   \n",
       "LinearSVR-30-1e-05   linear  30   0.00001  0.766727  0.003928              0.025253   \n",
       "LinearSVR-20-0.0001  linear  20    0.0001  0.766723  0.003923              0.025477   \n",
       "LinearSVR-30-0.0     linear  30       0.0  0.766721  0.003926              0.025067   \n",
       "LinearSVR-15-0.0001  linear  15    0.0001  0.766702  0.003926              0.025281   \n",
       "LinearSVR-20-1e-05   linear  20   0.00001  0.766658  0.003929              0.025703   \n",
       "LinearSVR-10-1e-05   linear  10   0.00001  0.766641  0.003925              0.025516   \n",
       "LinearSVR-30-1e-07   linear  30       0.0  0.766553  0.003933               0.02525   \n",
       "LinearSVR-15-1e-07   linear  15       0.0  0.766537  0.003926              0.025554   \n",
       "LinearSVR-10-1e-06   linear  10  0.000001   0.76649  0.003927              0.025523   \n",
       "LinearSVR-20-1e-06   linear  20  0.000001  0.766444  0.003929              0.025474   \n",
       "LinearSVR-15-1e-05   linear  15   0.00001  0.766391  0.003928              0.025385   \n",
       "LinearSVR-5-0.0      linear   5       0.0  0.766388  0.003931               0.02557   \n",
       "LinearSVR-10-0.0     linear  10       0.0  0.766385  0.003929              0.025273   \n",
       "LinearSVR-5-1e-06    linear   5  0.000001  0.766322  0.003933              0.025719   \n",
       "LinearSVR-20-0.0     linear  20       0.0  0.766233  0.003936               0.02557   \n",
       "LinearSVR-5-1e-05    linear   5   0.00001  0.766126  0.003937              0.025725   \n",
       "LinearSVR-5-1e-07    linear   5       0.0  0.766087  0.003936              0.025552   \n",
       "LinearSVR-30-1e-06   linear  30  0.000001  0.764481   0.00395              0.024479   \n",
       "\n",
       "                    mean_absolute_error  \n",
       "LinearSVR-15-0.0               0.044056  \n",
       "LinearSVR-5-0.0001             0.044017  \n",
       "LinearSVR-10-0.0001            0.044076  \n",
       "LinearSVR-15-1e-06             0.044219  \n",
       "LinearSVR-20-1e-07             0.044205  \n",
       "LinearSVR-30-0.0001             0.04415  \n",
       "LinearSVR-10-1e-07              0.04419  \n",
       "LinearSVR-30-1e-05             0.044238  \n",
       "LinearSVR-20-0.0001            0.044192  \n",
       "LinearSVR-30-0.0               0.044252  \n",
       "LinearSVR-15-0.0001             0.04423  \n",
       "LinearSVR-20-1e-05             0.044254  \n",
       "LinearSVR-10-1e-05             0.044217  \n",
       "LinearSVR-30-1e-07             0.044265  \n",
       "LinearSVR-15-1e-07             0.044195  \n",
       "LinearSVR-10-1e-06             0.044189  \n",
       "LinearSVR-20-1e-06              0.04421  \n",
       "LinearSVR-15-1e-05             0.044198  \n",
       "LinearSVR-5-0.0                0.044187  \n",
       "LinearSVR-10-0.0               0.044172  \n",
       "LinearSVR-5-1e-06              0.044175  \n",
       "LinearSVR-20-0.0               0.044243  \n",
       "LinearSVR-5-1e-05               0.04422  \n",
       "LinearSVR-5-1e-07               0.04419  \n",
       "LinearSVR-30-1e-06             0.044213  "
      ]
     },
     "execution_count": 187,
     "metadata": {},
     "output_type": "execute_result"
    }
   ],
   "source": [
    "cv_results.sort_values(by='R2', ascending=False)"
   ]
  },
  {
   "cell_type": "code",
   "execution_count": null,
   "metadata": {},
   "outputs": [
    {
     "data": {
      "text/html": [
       "<div>\n",
       "<style scoped>\n",
       "    .dataframe tbody tr th:only-of-type {\n",
       "        vertical-align: middle;\n",
       "    }\n",
       "\n",
       "    .dataframe tbody tr th {\n",
       "        vertical-align: top;\n",
       "    }\n",
       "\n",
       "    .dataframe thead th {\n",
       "        text-align: right;\n",
       "    }\n",
       "</style>\n",
       "<table border=\"1\" class=\"dataframe\">\n",
       "  <thead>\n",
       "    <tr style=\"text-align: right;\">\n",
       "      <th></th>\n",
       "      <th>Kernel</th>\n",
       "      <th>C</th>\n",
       "      <th>epsilon</th>\n",
       "      <th>R2</th>\n",
       "      <th>MSE</th>\n",
       "      <th>median_absolute_error</th>\n",
       "      <th>mean_absolute_error</th>\n",
       "    </tr>\n",
       "  </thead>\n",
       "  <tbody>\n",
       "    <tr>\n",
       "      <th>rbfSVR-best</th>\n",
       "      <td>rbf</td>\n",
       "      <td>2</td>\n",
       "      <td>0.00001</td>\n",
       "      <td>0.754999</td>\n",
       "      <td>0.005084</td>\n",
       "      <td>0.024258</td>\n",
       "      <td>0.042567</td>\n",
       "    </tr>\n",
       "    <tr>\n",
       "      <th>LinearSVR-best</th>\n",
       "      <td>linear</td>\n",
       "      <td>3</td>\n",
       "      <td>0</td>\n",
       "      <td>0.738915</td>\n",
       "      <td>0.005351</td>\n",
       "      <td>0.032457</td>\n",
       "      <td>0.045964</td>\n",
       "    </tr>\n",
       "    <tr>\n",
       "      <th>KNN</th>\n",
       "      <td>-</td>\n",
       "      <td>-</td>\n",
       "      <td>-</td>\n",
       "      <td>0.729857</td>\n",
       "      <td>0.005887</td>\n",
       "      <td>0.032</td>\n",
       "      <td>0.048848</td>\n",
       "    </tr>\n",
       "    <tr>\n",
       "      <th>LinearSVR-default</th>\n",
       "      <td>linear</td>\n",
       "      <td>1</td>\n",
       "      <td>0</td>\n",
       "      <td>0.720579</td>\n",
       "      <td>0.005936</td>\n",
       "      <td>0.03563</td>\n",
       "      <td>0.050124</td>\n",
       "    </tr>\n",
       "    <tr>\n",
       "      <th>polySVR-best</th>\n",
       "      <td>poly</td>\n",
       "      <td>50</td>\n",
       "      <td>0.001</td>\n",
       "      <td>0.671217</td>\n",
       "      <td>0.007383</td>\n",
       "      <td>0.03403</td>\n",
       "      <td>0.056425</td>\n",
       "    </tr>\n",
       "    <tr>\n",
       "      <th>RBF-SVR-default</th>\n",
       "      <td>RBF</td>\n",
       "      <td>1</td>\n",
       "      <td>0</td>\n",
       "      <td>0.583031</td>\n",
       "      <td>0.006231</td>\n",
       "      <td>0.047385</td>\n",
       "      <td>0.058155</td>\n",
       "    </tr>\n",
       "    <tr>\n",
       "      <th>rbf-SVR-default</th>\n",
       "      <td>rbf</td>\n",
       "      <td>1</td>\n",
       "      <td>0</td>\n",
       "      <td>0.583031</td>\n",
       "      <td>0.006231</td>\n",
       "      <td>0.047385</td>\n",
       "      <td>0.058155</td>\n",
       "    </tr>\n",
       "    <tr>\n",
       "      <th>poly-SVR-default</th>\n",
       "      <td>poly</td>\n",
       "      <td>1</td>\n",
       "      <td>0</td>\n",
       "      <td>0.455901</td>\n",
       "      <td>0.009243</td>\n",
       "      <td>0.063212</td>\n",
       "      <td>0.074462</td>\n",
       "    </tr>\n",
       "    <tr>\n",
       "      <th>sigmoidSVR-best</th>\n",
       "      <td>sigmoid</td>\n",
       "      <td>2</td>\n",
       "      <td>0.0</td>\n",
       "      <td>-0.153639</td>\n",
       "      <td>78.762266</td>\n",
       "      <td>3.796118</td>\n",
       "      <td>5.722851</td>\n",
       "    </tr>\n",
       "    <tr>\n",
       "      <th>sigmoid-SVR-default</th>\n",
       "      <td>sigmoid</td>\n",
       "      <td>1</td>\n",
       "      <td>0</td>\n",
       "      <td>-0.159837</td>\n",
       "      <td>19.803588</td>\n",
       "      <td>1.962415</td>\n",
       "      <td>2.868427</td>\n",
       "    </tr>\n",
       "  </tbody>\n",
       "</table>\n",
       "</div>"
      ],
      "text/plain": [
       "                      Kernel   C  epsilon        R2        MSE  \\\n",
       "rbfSVR-best              rbf   2  0.00001  0.754999   0.005084   \n",
       "LinearSVR-best        linear   3        0  0.738915   0.005351   \n",
       "KNN                        -   -        -  0.729857   0.005887   \n",
       "LinearSVR-default     linear   1        0  0.720579   0.005936   \n",
       "polySVR-best            poly  50    0.001  0.671217   0.007383   \n",
       "RBF-SVR-default          RBF   1        0  0.583031   0.006231   \n",
       "rbf-SVR-default          rbf   1        0  0.583031   0.006231   \n",
       "poly-SVR-default        poly   1        0  0.455901   0.009243   \n",
       "sigmoidSVR-best      sigmoid   2      0.0 -0.153639  78.762266   \n",
       "sigmoid-SVR-default  sigmoid   1        0 -0.159837  19.803588   \n",
       "\n",
       "                    median_absolute_error mean_absolute_error  \n",
       "rbfSVR-best                      0.024258            0.042567  \n",
       "LinearSVR-best                   0.032457            0.045964  \n",
       "KNN                                 0.032            0.048848  \n",
       "LinearSVR-default                 0.03563            0.050124  \n",
       "polySVR-best                      0.03403            0.056425  \n",
       "RBF-SVR-default                  0.047385            0.058155  \n",
       "rbf-SVR-default                  0.047385            0.058155  \n",
       "poly-SVR-default                 0.063212            0.074462  \n",
       "sigmoidSVR-best                  3.796118            5.722851  \n",
       "sigmoid-SVR-default              1.962415            2.868427  "
      ]
     },
     "execution_count": 178,
     "metadata": {},
     "output_type": "execute_result"
    }
   ],
   "source": [
    "results.sort_values(by='R2', ascending=False)"
   ]
  },
  {
   "cell_type": "markdown",
   "metadata": {},
   "source": [
    "## Non-linear SVR"
   ]
  },
  {
   "cell_type": "code",
   "execution_count": null,
   "metadata": {},
   "outputs": [
    {
     "data": {
      "text/html": [
       "<div>\n",
       "<style scoped>\n",
       "    .dataframe tbody tr th:only-of-type {\n",
       "        vertical-align: middle;\n",
       "    }\n",
       "\n",
       "    .dataframe tbody tr th {\n",
       "        vertical-align: top;\n",
       "    }\n",
       "\n",
       "    .dataframe thead th {\n",
       "        text-align: right;\n",
       "    }\n",
       "</style>\n",
       "<table border=\"1\" class=\"dataframe\">\n",
       "  <thead>\n",
       "    <tr style=\"text-align: right;\">\n",
       "      <th></th>\n",
       "      <th>Kernel</th>\n",
       "      <th>C</th>\n",
       "      <th>epsilon</th>\n",
       "      <th>R2</th>\n",
       "      <th>MSE</th>\n",
       "      <th>median_absolute_error</th>\n",
       "      <th>mean_absolute_error</th>\n",
       "    </tr>\n",
       "  </thead>\n",
       "  <tbody>\n",
       "    <tr>\n",
       "      <th>rbfSVR-best</th>\n",
       "      <td>rbf</td>\n",
       "      <td>2</td>\n",
       "      <td>0.00001</td>\n",
       "      <td>0.754999</td>\n",
       "      <td>0.005084</td>\n",
       "      <td>0.024258</td>\n",
       "      <td>0.042567</td>\n",
       "    </tr>\n",
       "    <tr>\n",
       "      <th>LinearSVR-best</th>\n",
       "      <td>linear</td>\n",
       "      <td>3</td>\n",
       "      <td>0</td>\n",
       "      <td>0.738915</td>\n",
       "      <td>0.005351</td>\n",
       "      <td>0.032457</td>\n",
       "      <td>0.045964</td>\n",
       "    </tr>\n",
       "    <tr>\n",
       "      <th>KNN</th>\n",
       "      <td>-</td>\n",
       "      <td>-</td>\n",
       "      <td>-</td>\n",
       "      <td>0.729857</td>\n",
       "      <td>0.005887</td>\n",
       "      <td>0.032</td>\n",
       "      <td>0.048848</td>\n",
       "    </tr>\n",
       "    <tr>\n",
       "      <th>LinearSVR-default</th>\n",
       "      <td>linear</td>\n",
       "      <td>1</td>\n",
       "      <td>0</td>\n",
       "      <td>0.720579</td>\n",
       "      <td>0.005936</td>\n",
       "      <td>0.03563</td>\n",
       "      <td>0.050124</td>\n",
       "    </tr>\n",
       "    <tr>\n",
       "      <th>polySVR-best</th>\n",
       "      <td>poly</td>\n",
       "      <td>50</td>\n",
       "      <td>0.001</td>\n",
       "      <td>0.671217</td>\n",
       "      <td>0.007383</td>\n",
       "      <td>0.03403</td>\n",
       "      <td>0.056425</td>\n",
       "    </tr>\n",
       "    <tr>\n",
       "      <th>RBF-SVR-default</th>\n",
       "      <td>RBF</td>\n",
       "      <td>1</td>\n",
       "      <td>0</td>\n",
       "      <td>0.583031</td>\n",
       "      <td>0.006231</td>\n",
       "      <td>0.047385</td>\n",
       "      <td>0.058155</td>\n",
       "    </tr>\n",
       "    <tr>\n",
       "      <th>rbf-SVR-default</th>\n",
       "      <td>rbf</td>\n",
       "      <td>1</td>\n",
       "      <td>0</td>\n",
       "      <td>0.583031</td>\n",
       "      <td>0.006231</td>\n",
       "      <td>0.047385</td>\n",
       "      <td>0.058155</td>\n",
       "    </tr>\n",
       "    <tr>\n",
       "      <th>poly-SVR-default</th>\n",
       "      <td>poly</td>\n",
       "      <td>1</td>\n",
       "      <td>0</td>\n",
       "      <td>0.455901</td>\n",
       "      <td>0.009243</td>\n",
       "      <td>0.063212</td>\n",
       "      <td>0.074462</td>\n",
       "    </tr>\n",
       "    <tr>\n",
       "      <th>sigmoidSVR-best</th>\n",
       "      <td>sigmoid</td>\n",
       "      <td>2</td>\n",
       "      <td>0.0</td>\n",
       "      <td>-0.153639</td>\n",
       "      <td>78.762266</td>\n",
       "      <td>3.796118</td>\n",
       "      <td>5.722851</td>\n",
       "    </tr>\n",
       "    <tr>\n",
       "      <th>sigmoid-SVR-default</th>\n",
       "      <td>sigmoid</td>\n",
       "      <td>1</td>\n",
       "      <td>0</td>\n",
       "      <td>-0.159837</td>\n",
       "      <td>19.803588</td>\n",
       "      <td>1.962415</td>\n",
       "      <td>2.868427</td>\n",
       "    </tr>\n",
       "  </tbody>\n",
       "</table>\n",
       "</div>"
      ],
      "text/plain": [
       "                      Kernel   C  epsilon        R2        MSE  \\\n",
       "rbfSVR-best              rbf   2  0.00001  0.754999   0.005084   \n",
       "LinearSVR-best        linear   3        0  0.738915   0.005351   \n",
       "KNN                        -   -        -  0.729857   0.005887   \n",
       "LinearSVR-default     linear   1        0  0.720579   0.005936   \n",
       "polySVR-best            poly  50    0.001  0.671217   0.007383   \n",
       "RBF-SVR-default          RBF   1        0  0.583031   0.006231   \n",
       "rbf-SVR-default          rbf   1        0  0.583031   0.006231   \n",
       "poly-SVR-default        poly   1        0  0.455901   0.009243   \n",
       "sigmoidSVR-best      sigmoid   2      0.0 -0.153639  78.762266   \n",
       "sigmoid-SVR-default  sigmoid   1        0 -0.159837  19.803588   \n",
       "\n",
       "                    median_absolute_error mean_absolute_error  \n",
       "rbfSVR-best                      0.024258            0.042567  \n",
       "LinearSVR-best                   0.032457            0.045964  \n",
       "KNN                                 0.032            0.048848  \n",
       "LinearSVR-default                 0.03563            0.050124  \n",
       "polySVR-best                      0.03403            0.056425  \n",
       "RBF-SVR-default                  0.047385            0.058155  \n",
       "rbf-SVR-default                  0.047385            0.058155  \n",
       "poly-SVR-default                 0.063212            0.074462  \n",
       "sigmoidSVR-best                  3.796118            5.722851  \n",
       "sigmoid-SVR-default              1.962415            2.868427  "
      ]
     },
     "execution_count": 179,
     "metadata": {},
     "output_type": "execute_result"
    },
    {
     "data": {
      "image/png": "[encoded data removed]",
      "text/plain": [
       "<Figure size 640x480 with 1 Axes>"
      ]
     },
     "metadata": {},
     "output_type": "display_data"
    }
   ],
   "source": [
    "svr = SVR(kernel='rbf')\n",
    "svr.fit(X_train,y_train)\n",
    "y_pred = svr.predict(X_test)\n",
    "\n",
    "results.loc['RBF-SVR-default', :] = ['RBF',1,0]+ compute_metrics(y_pred,y_test)\n",
    "\n",
    "sns.scatterplot(x=y_test, y=y_pred)\n",
    "results.sort_values(by='R2', ascending=False)"
   ]
  },
  {
   "cell_type": "code",
   "execution_count": null,
   "metadata": {},
   "outputs": [
    {
     "data": {
      "text/html": [
       "<div>\n",
       "<style scoped>\n",
       "    .dataframe tbody tr th:only-of-type {\n",
       "        vertical-align: middle;\n",
       "    }\n",
       "\n",
       "    .dataframe tbody tr th {\n",
       "        vertical-align: top;\n",
       "    }\n",
       "\n",
       "    .dataframe thead th {\n",
       "        text-align: right;\n",
       "    }\n",
       "</style>\n",
       "<table border=\"1\" class=\"dataframe\">\n",
       "  <thead>\n",
       "    <tr style=\"text-align: right;\">\n",
       "      <th></th>\n",
       "      <th>Kernel</th>\n",
       "      <th>C</th>\n",
       "      <th>epsilon</th>\n",
       "      <th>R2</th>\n",
       "      <th>MSE</th>\n",
       "      <th>median_absolute_error</th>\n",
       "      <th>mean_absolute_error</th>\n",
       "    </tr>\n",
       "  </thead>\n",
       "  <tbody>\n",
       "    <tr>\n",
       "      <th>rbfSVR-best</th>\n",
       "      <td>rbf</td>\n",
       "      <td>2</td>\n",
       "      <td>0.00001</td>\n",
       "      <td>0.754999</td>\n",
       "      <td>0.005084</td>\n",
       "      <td>0.024258</td>\n",
       "      <td>0.042567</td>\n",
       "    </tr>\n",
       "    <tr>\n",
       "      <th>LinearSVR-best</th>\n",
       "      <td>linear</td>\n",
       "      <td>2</td>\n",
       "      <td>0</td>\n",
       "      <td>0.738811</td>\n",
       "      <td>0.005348</td>\n",
       "      <td>0.032429</td>\n",
       "      <td>0.045939</td>\n",
       "    </tr>\n",
       "    <tr>\n",
       "      <th>KNN</th>\n",
       "      <td>-</td>\n",
       "      <td>-</td>\n",
       "      <td>-</td>\n",
       "      <td>0.729857</td>\n",
       "      <td>0.005887</td>\n",
       "      <td>0.032</td>\n",
       "      <td>0.048848</td>\n",
       "    </tr>\n",
       "    <tr>\n",
       "      <th>LinearSVR-default</th>\n",
       "      <td>linear</td>\n",
       "      <td>1</td>\n",
       "      <td>0</td>\n",
       "      <td>0.720579</td>\n",
       "      <td>0.005936</td>\n",
       "      <td>0.03563</td>\n",
       "      <td>0.050124</td>\n",
       "    </tr>\n",
       "    <tr>\n",
       "      <th>polySVR-best</th>\n",
       "      <td>poly</td>\n",
       "      <td>50</td>\n",
       "      <td>0.001</td>\n",
       "      <td>0.671217</td>\n",
       "      <td>0.007383</td>\n",
       "      <td>0.03403</td>\n",
       "      <td>0.056425</td>\n",
       "    </tr>\n",
       "    <tr>\n",
       "      <th>RBF-SVR-default</th>\n",
       "      <td>RBF</td>\n",
       "      <td>1</td>\n",
       "      <td>0</td>\n",
       "      <td>0.583031</td>\n",
       "      <td>0.006231</td>\n",
       "      <td>0.047385</td>\n",
       "      <td>0.058155</td>\n",
       "    </tr>\n",
       "    <tr>\n",
       "      <th>rbf-SVR-default</th>\n",
       "      <td>rbf</td>\n",
       "      <td>1</td>\n",
       "      <td>0</td>\n",
       "      <td>0.583031</td>\n",
       "      <td>0.006231</td>\n",
       "      <td>0.047385</td>\n",
       "      <td>0.058155</td>\n",
       "    </tr>\n",
       "    <tr>\n",
       "      <th>poly-SVR-default</th>\n",
       "      <td>poly</td>\n",
       "      <td>1</td>\n",
       "      <td>0</td>\n",
       "      <td>0.455901</td>\n",
       "      <td>0.009243</td>\n",
       "      <td>0.063212</td>\n",
       "      <td>0.074462</td>\n",
       "    </tr>\n",
       "    <tr>\n",
       "      <th>sigmoidSVR-best</th>\n",
       "      <td>sigmoid</td>\n",
       "      <td>2</td>\n",
       "      <td>0.0</td>\n",
       "      <td>-0.153639</td>\n",
       "      <td>78.762266</td>\n",
       "      <td>3.796118</td>\n",
       "      <td>5.722851</td>\n",
       "    </tr>\n",
       "    <tr>\n",
       "      <th>sigmoid-SVR-default</th>\n",
       "      <td>sigmoid</td>\n",
       "      <td>1</td>\n",
       "      <td>0</td>\n",
       "      <td>-0.159837</td>\n",
       "      <td>19.803588</td>\n",
       "      <td>1.962415</td>\n",
       "      <td>2.868427</td>\n",
       "    </tr>\n",
       "  </tbody>\n",
       "</table>\n",
       "</div>"
      ],
      "text/plain": [
       "                      Kernel   C  epsilon        R2        MSE  \\\n",
       "rbfSVR-best              rbf   2  0.00001  0.754999   0.005084   \n",
       "LinearSVR-best        linear   2        0  0.738811   0.005348   \n",
       "KNN                        -   -        -  0.729857   0.005887   \n",
       "LinearSVR-default     linear   1        0  0.720579   0.005936   \n",
       "polySVR-best            poly  50    0.001  0.671217   0.007383   \n",
       "RBF-SVR-default          RBF   1        0  0.583031   0.006231   \n",
       "rbf-SVR-default          rbf   1        0  0.583031   0.006231   \n",
       "poly-SVR-default        poly   1        0  0.455901   0.009243   \n",
       "sigmoidSVR-best      sigmoid   2      0.0 -0.153639  78.762266   \n",
       "sigmoid-SVR-default  sigmoid   1        0 -0.159837  19.803588   \n",
       "\n",
       "                    median_absolute_error mean_absolute_error  \n",
       "rbfSVR-best                      0.024258            0.042567  \n",
       "LinearSVR-best                   0.032429            0.045939  \n",
       "KNN                                 0.032            0.048848  \n",
       "LinearSVR-default                 0.03563            0.050124  \n",
       "polySVR-best                      0.03403            0.056425  \n",
       "RBF-SVR-default                  0.047385            0.058155  \n",
       "rbf-SVR-default                  0.047385            0.058155  \n",
       "poly-SVR-default                 0.063212            0.074462  \n",
       "sigmoidSVR-best                  3.796118            5.722851  \n",
       "sigmoid-SVR-default              1.962415            2.868427  "
      ]
     },
     "execution_count": 168,
     "metadata": {},
     "output_type": "execute_result"
    }
   ],
   "source": [
    "\n",
    "Cs = [1, 2, 2.5, 3, 5, 10, 15, 20, 30, 50]\n",
    "epsilons = [0.001,0.0001,0.00001,0.000001, 0.0000001,0]\n",
    "for kernel_type in ['rbf', 'sigmoid', 'poly']:\n",
    "    \n",
    "    svr = SVR(kernel=kernel_type)\n",
    "    svr.fit(X_train,y_train)\n",
    "    y_pred = svr.predict(X_test)\n",
    "\n",
    "    results.loc[kernel_type+'-SVR-default', :] = [kernel_type,1,0]+ compute_metrics(y_pred,y_test)\n",
    "    \n",
    "    \n",
    "    cv_results_rbf = pd.DataFrame(columns=['Kernel', 'C', 'epsilon', 'R2', 'MSE', 'median_absolute_error', 'mean_absolute_error'])\n",
    "    for c in Cs:\n",
    "        for epsilon in epsilons:\n",
    "            svm = SVR(kernel=kernel_type, C=c,epsilon=epsilon)\n",
    "            svm.fit(X_train,y_train)\n",
    "            y_pred = svm.predict(X_test)\n",
    "            cv_results_rbf.loc[kernel_type+'SVR-{}-{}'.format(c,epsilon), :] = [kernel_type, c, epsilon] + compute_metrics(y_pred,y_test)\n",
    "            \n",
    "    best = cv_results_rbf.sort_values(by='R2',ascending=False).iloc[0,:]\n",
    "    results.loc[kernel_type+'SVR-best',:] = best\n",
    "\n",
    "\n",
    "results.sort_values(by='R2', ascending=False)"
   ]
  },
  {
   "cell_type": "code",
   "execution_count": null,
   "metadata": {},
   "outputs": [
    {
     "data": {
      "text/html": [
       "<div>\n",
       "<style scoped>\n",
       "    .dataframe tbody tr th:only-of-type {\n",
       "        vertical-align: middle;\n",
       "    }\n",
       "\n",
       "    .dataframe tbody tr th {\n",
       "        vertical-align: top;\n",
       "    }\n",
       "\n",
       "    .dataframe thead th {\n",
       "        text-align: right;\n",
       "    }\n",
       "</style>\n",
       "<table border=\"1\" class=\"dataframe\">\n",
       "  <thead>\n",
       "    <tr style=\"text-align: right;\">\n",
       "      <th></th>\n",
       "      <th>Kernel</th>\n",
       "      <th>C</th>\n",
       "      <th>epsilon</th>\n",
       "      <th>R2</th>\n",
       "      <th>MSE</th>\n",
       "      <th>median_absolute_error</th>\n",
       "      <th>mean_absolute_error</th>\n",
       "    </tr>\n",
       "  </thead>\n",
       "  <tbody>\n",
       "    <tr>\n",
       "      <th>rbfSVR-best</th>\n",
       "      <td>rbf</td>\n",
       "      <td>2</td>\n",
       "      <td>0.00001</td>\n",
       "      <td>0.754999</td>\n",
       "      <td>0.005084</td>\n",
       "      <td>0.024258</td>\n",
       "      <td>0.042567</td>\n",
       "    </tr>\n",
       "    <tr>\n",
       "      <th>LinearSVR-best</th>\n",
       "      <td>linear</td>\n",
       "      <td>2</td>\n",
       "      <td>0</td>\n",
       "      <td>0.738811</td>\n",
       "      <td>0.005348</td>\n",
       "      <td>0.032429</td>\n",
       "      <td>0.045939</td>\n",
       "    </tr>\n",
       "    <tr>\n",
       "      <th>KNN</th>\n",
       "      <td>-</td>\n",
       "      <td>-</td>\n",
       "      <td>-</td>\n",
       "      <td>0.729857</td>\n",
       "      <td>0.005887</td>\n",
       "      <td>0.032</td>\n",
       "      <td>0.048848</td>\n",
       "    </tr>\n",
       "    <tr>\n",
       "      <th>LinearSVR-default</th>\n",
       "      <td>linear</td>\n",
       "      <td>1</td>\n",
       "      <td>0</td>\n",
       "      <td>0.720579</td>\n",
       "      <td>0.005936</td>\n",
       "      <td>0.03563</td>\n",
       "      <td>0.050124</td>\n",
       "    </tr>\n",
       "    <tr>\n",
       "      <th>polySVR-best</th>\n",
       "      <td>poly</td>\n",
       "      <td>50</td>\n",
       "      <td>0.001</td>\n",
       "      <td>0.671217</td>\n",
       "      <td>0.007383</td>\n",
       "      <td>0.03403</td>\n",
       "      <td>0.056425</td>\n",
       "    </tr>\n",
       "    <tr>\n",
       "      <th>RBF-SVR-default</th>\n",
       "      <td>RBF</td>\n",
       "      <td>1</td>\n",
       "      <td>0</td>\n",
       "      <td>0.583031</td>\n",
       "      <td>0.006231</td>\n",
       "      <td>0.047385</td>\n",
       "      <td>0.058155</td>\n",
       "    </tr>\n",
       "    <tr>\n",
       "      <th>rbf-SVR-default</th>\n",
       "      <td>rbf</td>\n",
       "      <td>1</td>\n",
       "      <td>0</td>\n",
       "      <td>0.583031</td>\n",
       "      <td>0.006231</td>\n",
       "      <td>0.047385</td>\n",
       "      <td>0.058155</td>\n",
       "    </tr>\n",
       "    <tr>\n",
       "      <th>poly-SVR-default</th>\n",
       "      <td>poly</td>\n",
       "      <td>1</td>\n",
       "      <td>0</td>\n",
       "      <td>0.455901</td>\n",
       "      <td>0.009243</td>\n",
       "      <td>0.063212</td>\n",
       "      <td>0.074462</td>\n",
       "    </tr>\n",
       "    <tr>\n",
       "      <th>sigmoidSVR-best</th>\n",
       "      <td>sigmoid</td>\n",
       "      <td>2</td>\n",
       "      <td>0.0</td>\n",
       "      <td>-0.153639</td>\n",
       "      <td>78.762266</td>\n",
       "      <td>3.796118</td>\n",
       "      <td>5.722851</td>\n",
       "    </tr>\n",
       "    <tr>\n",
       "      <th>sigmoid-SVR-default</th>\n",
       "      <td>sigmoid</td>\n",
       "      <td>1</td>\n",
       "      <td>0</td>\n",
       "      <td>-0.159837</td>\n",
       "      <td>19.803588</td>\n",
       "      <td>1.962415</td>\n",
       "      <td>2.868427</td>\n",
       "    </tr>\n",
       "  </tbody>\n",
       "</table>\n",
       "</div>"
      ],
      "text/plain": [
       "                      Kernel   C  epsilon        R2        MSE  \\\n",
       "rbfSVR-best              rbf   2  0.00001  0.754999   0.005084   \n",
       "LinearSVR-best        linear   2        0  0.738811   0.005348   \n",
       "KNN                        -   -        -  0.729857   0.005887   \n",
       "LinearSVR-default     linear   1        0  0.720579   0.005936   \n",
       "polySVR-best            poly  50    0.001  0.671217   0.007383   \n",
       "RBF-SVR-default          RBF   1        0  0.583031   0.006231   \n",
       "rbf-SVR-default          rbf   1        0  0.583031   0.006231   \n",
       "poly-SVR-default        poly   1        0  0.455901   0.009243   \n",
       "sigmoidSVR-best      sigmoid   2      0.0 -0.153639  78.762266   \n",
       "sigmoid-SVR-default  sigmoid   1        0 -0.159837  19.803588   \n",
       "\n",
       "                    median_absolute_error mean_absolute_error  \n",
       "rbfSVR-best                      0.024258            0.042567  \n",
       "LinearSVR-best                   0.032429            0.045939  \n",
       "KNN                                 0.032            0.048848  \n",
       "LinearSVR-default                 0.03563            0.050124  \n",
       "polySVR-best                      0.03403            0.056425  \n",
       "RBF-SVR-default                  0.047385            0.058155  \n",
       "rbf-SVR-default                  0.047385            0.058155  \n",
       "poly-SVR-default                 0.063212            0.074462  \n",
       "sigmoidSVR-best                  3.796118            5.722851  \n",
       "sigmoid-SVR-default              1.962415            2.868427  "
      ]
     },
     "execution_count": 169,
     "metadata": {},
     "output_type": "execute_result"
    }
   ],
   "source": [
    "results.sort_values(by='R2', ascending=False)"
   ]
  },
  {
   "cell_type": "code",
   "execution_count": null,
   "metadata": {},
   "outputs": [],
   "source": [
    "kernel_type='poly'\n",
    "svr = SVR(kernel=kernel_type)\n",
    "svr.fit(X_train,y_train)\n",
    "y_pred = svr.predict(X_test)\n",
    "\n",
    "results.loc[kernel_type+'-SVR-default', :] = [kernel_type,1,0]+ compute_metrics(y_pred,y_test)\n",
    "\n",
    "Cs = [10, 15, 20, 25, 30, 50]\n",
    "epsilons = [0.001,0.0001,0.00001,0.000001, 0.0000001,0]\n",
    "\n",
    "cv_results_rbf = pd.DataFrame(columns=['Kernel', 'C', 'epsilon', 'R2', 'MSE', 'median_absolute_error', 'mean_absolute_error'])\n",
    "for c in Cs:\n",
    "    for epsilon in epsilons:\n",
    "        svm = SVR(kernel=kernel_type, C=c,epsilon=epsilon)\n",
    "        svm.fit(X_train,y_train)\n",
    "        y_pred = svm.predict(X_test)\n",
    "        cv_results_rbf.loc[kernel_type+'SVR-{}-{}'.format(c,epsilon), :] = [kernel_type, c, epsilon] + compute_metrics(y_pred,y_test)\n",
    "        \n",
    "best = cv_results_rbf.sort_values(by='R2',ascending=False).iloc[0,:]\n",
    "results.loc[kernel_type+'SVR-best',:] = best"
   ]
  },
  {
   "cell_type": "code",
   "execution_count": null,
   "metadata": {},
   "outputs": [
    {
     "data": {
      "text/html": [
       "<div>\n",
       "<style scoped>\n",
       "    .dataframe tbody tr th:only-of-type {\n",
       "        vertical-align: middle;\n",
       "    }\n",
       "\n",
       "    .dataframe tbody tr th {\n",
       "        vertical-align: top;\n",
       "    }\n",
       "\n",
       "    .dataframe thead th {\n",
       "        text-align: right;\n",
       "    }\n",
       "</style>\n",
       "<table border=\"1\" class=\"dataframe\">\n",
       "  <thead>\n",
       "    <tr style=\"text-align: right;\">\n",
       "      <th></th>\n",
       "      <th>Kernel</th>\n",
       "      <th>C</th>\n",
       "      <th>epsilon</th>\n",
       "      <th>R2</th>\n",
       "      <th>MSE</th>\n",
       "      <th>median_absolute_error</th>\n",
       "      <th>mean_absolute_error</th>\n",
       "    </tr>\n",
       "  </thead>\n",
       "  <tbody>\n",
       "    <tr>\n",
       "      <th>rbfSVR-best</th>\n",
       "      <td>rbf</td>\n",
       "      <td>2</td>\n",
       "      <td>0.00001</td>\n",
       "      <td>0.754999</td>\n",
       "      <td>0.005084</td>\n",
       "      <td>0.024258</td>\n",
       "      <td>0.042567</td>\n",
       "    </tr>\n",
       "    <tr>\n",
       "      <th>LinearSVR-best</th>\n",
       "      <td>linear</td>\n",
       "      <td>2</td>\n",
       "      <td>0</td>\n",
       "      <td>0.738811</td>\n",
       "      <td>0.005348</td>\n",
       "      <td>0.032429</td>\n",
       "      <td>0.045939</td>\n",
       "    </tr>\n",
       "    <tr>\n",
       "      <th>KNN</th>\n",
       "      <td>-</td>\n",
       "      <td>-</td>\n",
       "      <td>-</td>\n",
       "      <td>0.729857</td>\n",
       "      <td>0.005887</td>\n",
       "      <td>0.032</td>\n",
       "      <td>0.048848</td>\n",
       "    </tr>\n",
       "    <tr>\n",
       "      <th>LinearSVR-default</th>\n",
       "      <td>linear</td>\n",
       "      <td>1</td>\n",
       "      <td>0</td>\n",
       "      <td>0.720579</td>\n",
       "      <td>0.005936</td>\n",
       "      <td>0.03563</td>\n",
       "      <td>0.050124</td>\n",
       "    </tr>\n",
       "    <tr>\n",
       "      <th>polySVR-best</th>\n",
       "      <td>poly</td>\n",
       "      <td>50</td>\n",
       "      <td>0.001</td>\n",
       "      <td>0.671217</td>\n",
       "      <td>0.007383</td>\n",
       "      <td>0.03403</td>\n",
       "      <td>0.056425</td>\n",
       "    </tr>\n",
       "    <tr>\n",
       "      <th>RBF-SVR-default</th>\n",
       "      <td>RBF</td>\n",
       "      <td>1</td>\n",
       "      <td>0</td>\n",
       "      <td>0.583031</td>\n",
       "      <td>0.006231</td>\n",
       "      <td>0.047385</td>\n",
       "      <td>0.058155</td>\n",
       "    </tr>\n",
       "    <tr>\n",
       "      <th>rbf-SVR-default</th>\n",
       "      <td>rbf</td>\n",
       "      <td>1</td>\n",
       "      <td>0</td>\n",
       "      <td>0.583031</td>\n",
       "      <td>0.006231</td>\n",
       "      <td>0.047385</td>\n",
       "      <td>0.058155</td>\n",
       "    </tr>\n",
       "    <tr>\n",
       "      <th>poly-SVR-default</th>\n",
       "      <td>poly</td>\n",
       "      <td>1</td>\n",
       "      <td>0</td>\n",
       "      <td>0.455901</td>\n",
       "      <td>0.009243</td>\n",
       "      <td>0.063212</td>\n",
       "      <td>0.074462</td>\n",
       "    </tr>\n",
       "    <tr>\n",
       "      <th>sigmoidSVR-best</th>\n",
       "      <td>sigmoid</td>\n",
       "      <td>2</td>\n",
       "      <td>0.0</td>\n",
       "      <td>-0.153639</td>\n",
       "      <td>78.762266</td>\n",
       "      <td>3.796118</td>\n",
       "      <td>5.722851</td>\n",
       "    </tr>\n",
       "    <tr>\n",
       "      <th>sigmoid-SVR-default</th>\n",
       "      <td>sigmoid</td>\n",
       "      <td>1</td>\n",
       "      <td>0</td>\n",
       "      <td>-0.159837</td>\n",
       "      <td>19.803588</td>\n",
       "      <td>1.962415</td>\n",
       "      <td>2.868427</td>\n",
       "    </tr>\n",
       "  </tbody>\n",
       "</table>\n",
       "</div>"
      ],
      "text/plain": [
       "                      Kernel   C  epsilon        R2        MSE  \\\n",
       "rbfSVR-best              rbf   2  0.00001  0.754999   0.005084   \n",
       "LinearSVR-best        linear   2        0  0.738811   0.005348   \n",
       "KNN                        -   -        -  0.729857   0.005887   \n",
       "LinearSVR-default     linear   1        0  0.720579   0.005936   \n",
       "polySVR-best            poly  50    0.001  0.671217   0.007383   \n",
       "RBF-SVR-default          RBF   1        0  0.583031   0.006231   \n",
       "rbf-SVR-default          rbf   1        0  0.583031   0.006231   \n",
       "poly-SVR-default        poly   1        0  0.455901   0.009243   \n",
       "sigmoidSVR-best      sigmoid   2      0.0 -0.153639  78.762266   \n",
       "sigmoid-SVR-default  sigmoid   1        0 -0.159837  19.803588   \n",
       "\n",
       "                    median_absolute_error mean_absolute_error  \n",
       "rbfSVR-best                      0.024258            0.042567  \n",
       "LinearSVR-best                   0.032429            0.045939  \n",
       "KNN                                 0.032            0.048848  \n",
       "LinearSVR-default                 0.03563            0.050124  \n",
       "polySVR-best                      0.03403            0.056425  \n",
       "RBF-SVR-default                  0.047385            0.058155  \n",
       "rbf-SVR-default                  0.047385            0.058155  \n",
       "poly-SVR-default                 0.063212            0.074462  \n",
       "sigmoidSVR-best                  3.796118            5.722851  \n",
       "sigmoid-SVR-default              1.962415            2.868427  "
      ]
     },
     "execution_count": 171,
     "metadata": {},
     "output_type": "execute_result"
    }
   ],
   "source": [
    "results.sort_values(by='R2', ascending=False)"
   ]
  },
  {
   "cell_type": "markdown",
   "metadata": {},
   "source": [
    "## Outlier Removal"
   ]
  },
  {
   "cell_type": "code",
   "execution_count": null,
   "metadata": {},
   "outputs": [
    {
     "data": {
      "text/plain": [
       "<Axes: xlabel='popularity'>"
      ]
     },
     "execution_count": 180,
     "metadata": {},
     "output_type": "execute_result"
    },
    {
     "data": {
      "image/png": "[encoded data removed]",
      "text/plain": [
       "<Figure size 640x480 with 1 Axes>"
      ]
     },
     "metadata": {},
     "output_type": "display_data"
    }
   ],
   "source": [
    "best_svm = SVR(kernel='rbf', C=2.5, epsilon=0.0)\n",
    "best_svm.fit(X_train, y_train)\n",
    "y_pred = best_svm.predict(X_test)\n",
    "\n",
    "sns.scatterplot(x=y_test, y=y_pred)"
   ]
  },
  {
   "cell_type": "code",
   "execution_count": null,
   "metadata": {},
   "outputs": [
    {
     "data": {
      "text/plain": [
       "name\n",
       "I Don’t Wanna Live Forever (Fifty Shades Darker)    0.507602\n",
       "So It Goes...                                       0.239142\n",
       "Our Song                                            0.185210\n",
       "Style                                               0.140863\n",
       "champagne problems                                  0.132042\n",
       "                                                      ...   \n",
       "Style (Taylor's Version)                            0.001344\n",
       "Welcome To New York (Taylor's Version)              0.001223\n",
       "Midnight Rain                                       0.001167\n",
       "Bejeweled                                           0.000849\n",
       "This Love                                           0.000783\n",
       "Name: popularity, Length: 132, dtype: float64"
      ]
     },
     "execution_count": 181,
     "metadata": {},
     "output_type": "execute_result"
    }
   ],
   "source": [
    "sorted_differences = np.abs(y_test-y_pred).sort_values(ascending=False)\n",
    "sorted_differences"
   ]
  },
  {
   "cell_type": "code",
   "execution_count": null,
   "metadata": {},
   "outputs": [
    {
     "data": {
      "text/plain": [
       "'I Don’t Wanna Live Forever (Fifty Shades Darker)'"
      ]
     },
     "execution_count": 199,
     "metadata": {},
     "output_type": "execute_result"
    }
   ],
   "source": [
    "sorted_differences.index[0]"
   ]
  },
  {
   "cell_type": "code",
   "execution_count": null,
   "metadata": {},
   "outputs": [
    {
     "data": {
      "text/plain": [
       "album                                             reputation Stadium Tour Surprise Song Playlist\n",
       "track_number                                                                            3.515456\n",
       "acousticness                                                                           -2.045598\n",
       "danceability                                                                            0.746177\n",
       "energy                                                                                  0.393029\n",
       "liveness                                                                               -3.749917\n",
       "loudness                                                                                0.535105\n",
       "tempo                                                                                   0.354159\n",
       "valence                                                                                 0.075751\n",
       "popularity                                                                                  0.83\n",
       "duration                                                                                0.309391\n",
       "taylors_version                                                                            False\n",
       "performed_live                                                                              True\n",
       "not_first_release                                                                          False\n",
       "low_instrumentalness                                                                       False\n",
       "medium_instrumentalness                                                                    False\n",
       "spoken_section                                                                             False\n",
       "Midnights                                                                                  False\n",
       "Lover                                                                                      False\n",
       "reputation                                                                                 False\n",
       "Red (Taylor's Version)                                                                     False\n",
       "folklore                                                                                   False\n",
       "Speak Now (Taylor's Version)                                                               False\n",
       "Fearless (Taylor's Version)                                                                False\n",
       "Live From Clear Channel Stripped 2008                                                      False\n",
       "Speak Now                                                                                  False\n",
       "Fearless                                                                                   False\n",
       "1989                                                                                       False\n",
       "Taylor Swift                                                                               False\n",
       "1989 (Taylor's Version)                                                                    False\n",
       "Red                                                                                        False\n",
       "evermore                                                                                   False\n",
       "Speak Now World Tour Live                                                                  False\n",
       "reputation Stadium Tour Surprise Song Playlist                                              True\n",
       "Name: I Don’t Wanna Live Forever (Fifty Shades Darker), dtype: object"
      ]
     },
     "execution_count": 207,
     "metadata": {},
     "output_type": "execute_result"
    }
   ],
   "source": [
    "st_songs.loc[sorted_differences.index[0],:]"
   ]
  },
  {
   "cell_type": "markdown",
   "metadata": {},
   "source": []
  },
  {
   "cell_type": "markdown",
   "metadata": {},
   "source": [
    "## Using boosting"
   ]
  },
  {
   "cell_type": "markdown",
   "metadata": {},
   "source": [
    "We combine boosting with gridsearch to obtain the best estimators possible"
   ]
  },
  {
   "cell_type": "code",
   "execution_count": null,
   "metadata": {},
   "outputs": [
    {
     "name": "stdout",
     "output_type": "stream",
     "text": [
      "The r2 score on test set: 0.8018\n"
     ]
    }
   ],
   "source": [
    "from sklearn.ensemble import GradientBoostingRegressor\n",
    "\n",
    "param_grid = {  # ja he provat amb molts més valors, aquests son els que millor ho fan\n",
    "    'n_estimators': [200], #[100, 150, 200],\n",
    "    'learning_rate': [0.05], #[0.1, 0.05, 0.02],\n",
    "    'max_depth': [4], #[2, 3, 4, 5],\n",
    "    'loss': ['squared_error']\n",
    "}\n",
    "\n",
    "grid_search = GridSearchCV(GradientBoostingRegressor(random_state=42), param_grid, cv=10, refit='r2', return_train_score=True, n_jobs=-1)\n",
    "grid_search.fit(X_train, y_train)\n",
    "\n",
    "y_pred = grid_search.predict(X_test)\n",
    "\n",
    "r2 = r2_score(y_test, y_pred)\n",
    "print(f\"The r2 score on test set: {r2:.4f}\")"
   ]
  },
  {
   "cell_type": "code",
   "execution_count": null,
   "metadata": {},
   "outputs": [
    {
     "data": {
      "text/html": [
       "<div>\n",
       "<style scoped>\n",
       "    .dataframe tbody tr th:only-of-type {\n",
       "        vertical-align: middle;\n",
       "    }\n",
       "\n",
       "    .dataframe tbody tr th {\n",
       "        vertical-align: top;\n",
       "    }\n",
       "\n",
       "    .dataframe thead th {\n",
       "        text-align: right;\n",
       "    }\n",
       "</style>\n",
       "<table border=\"1\" class=\"dataframe\">\n",
       "  <thead>\n",
       "    <tr style=\"text-align: right;\">\n",
       "      <th></th>\n",
       "      <th>param_n_estimators</th>\n",
       "      <th>param_learning_rate</th>\n",
       "      <th>param_max_depth</th>\n",
       "      <th>param_loss</th>\n",
       "      <th>mean_train_score</th>\n",
       "      <th>mean_test_score</th>\n",
       "    </tr>\n",
       "  </thead>\n",
       "  <tbody>\n",
       "    <tr>\n",
       "      <th>0</th>\n",
       "      <td>200</td>\n",
       "      <td>0.05</td>\n",
       "      <td>4</td>\n",
       "      <td>squared_error</td>\n",
       "      <td>0.963821</td>\n",
       "      <td>0.814053</td>\n",
       "    </tr>\n",
       "  </tbody>\n",
       "</table>\n",
       "</div>"
      ],
      "text/plain": [
       "  param_n_estimators param_learning_rate param_max_depth     param_loss  \\\n",
       "0                200                0.05               4  squared_error   \n",
       "\n",
       "   mean_train_score  mean_test_score  \n",
       "0          0.963821         0.814053  "
      ]
     },
     "execution_count": 14,
     "metadata": {},
     "output_type": "execute_result"
    }
   ],
   "source": [
    "scoring_cols = ['param_n_estimators', 'param_learning_rate', 'param_max_depth', 'param_loss', 'mean_train_score', 'mean_test_score']\n",
    "pd.DataFrame(grid_search.cv_results_).sort_values(by='mean_test_score', ascending=False)[scoring_cols].head()"
   ]
  },
  {
   "cell_type": "markdown",
   "metadata": {},
   "source": [
    "We see that there is a bunch of overfitting."
   ]
  },
  {
   "cell_type": "code",
   "execution_count": null,
   "metadata": {},
   "outputs": [
    {
     "name": "stdout",
     "output_type": "stream",
     "text": [
      "danceability: 0.0119\n",
      "energy: 0.0198\n",
      "liveness: 0.0217\n",
      "loudness: 0.0352\n",
      "tempo: 0.0122\n",
      "valence: 0.0137\n",
      "duration: 0.0259\n",
      "taylors_version: 0.0364\n",
      "performed_live: 0.3042\n",
      "not_first_release: 0.0718\n",
      "low_instrumentalness: 0.0000\n",
      "medium_instrumentalness: 0.0000\n",
      "spoken_section: 0.0000\n",
      "Midnights: 0.0248\n",
      "Lover: 0.0293\n",
      "reputation: 0.0213\n",
      "Red (Taylor's Version): 0.0000\n",
      "folklore: 0.0139\n",
      "Speak Now (Taylor's Version): 0.0006\n",
      "Fearless (Taylor's Version): 0.0024\n",
      "Live From Clear Channel Stripped 2008: 0.0000\n",
      "Speak Now: 0.0625\n",
      "Fearless: 0.1012\n",
      "1989: 0.0194\n",
      "Taylor Swift: 0.0037\n",
      "1989 (Taylor's Version): 0.0050\n",
      "Red: 0.1420\n",
      "evermore: 0.0109\n",
      "Speak Now World Tour Live: 0.0070\n",
      "reputation Stadium Tour Surprise Song Playlist: 0.0031\n"
     ]
    }
   ],
   "source": [
    "importances = grid_search.best_estimator_.feature_importances_\n",
    "\n",
    "# Print feature importances\n",
    "for feature_name, importance in zip(X_train.columns, importances):\n",
    "    print(f\"{feature_name}: {importance:.4f}\")"
   ]
  },
  {
   "cell_type": "markdown",
   "metadata": {},
   "source": [
    "we can see that performed live is very important, and that not_first_release is also pretty important. Some albums are much more important than others."
   ]
  },
  {
   "cell_type": "code",
   "execution_count": null,
   "metadata": {},
   "outputs": [],
   "source": [
    "_, X_test, _, _ = train_test_split(st_songs, y, test_size=0.25, random_state=42)\n",
    "X_test\n",
    "X_test['y_pred'] = y_pred"
   ]
  },
  {
   "cell_type": "code",
   "execution_count": null,
   "metadata": {},
   "outputs": [
    {
     "data": {
      "image/png": "[encoded data removed]",
      "text/plain": [
       "<Figure size 640x480 with 1 Axes>"
      ]
     },
     "metadata": {},
     "output_type": "display_data"
    }
   ],
   "source": [
    "X_test['album_code'] = X_test['album'].astype('category').cat.codes\n",
    "album_names = X_test['album'].astype('category').cat.categories\n",
    "\n",
    "for album in album_names:\n",
    "    subset = X_test[X_test['album'] == album]\n",
    "    plt.scatter(subset['popularity'], subset['y_pred'], label=album, alpha=0.5)\n",
    "\n",
    "plt.legend(bbox_to_anchor=(1.05, 1), loc='upper left')\n",
    "plt.show()"
   ]
  },
  {
   "cell_type": "code",
   "execution_count": null,
   "metadata": {},
   "outputs": [
    {
     "data": {
      "image/png": "[encoded data removed]",
      "text/plain": [
       "<Figure size 640x480 with 1 Axes>"
      ]
     },
     "metadata": {},
     "output_type": "display_data"
    }
   ],
   "source": [
    "scatter = plt.scatter(X_test['popularity'], X_test['y_pred'], alpha=0.5, c=X_test['not_first_release'], cmap='coolwarm')\n",
    "plt.xlabel('popularity')\n",
    "plt.ylabel('predicted popularity')\n",
    "\n",
    "legend1 = plt.legend(*scatter.legend_elements(), title=\"not_first_release\")\n",
    "plt.gca().add_artist(legend1)\n",
    "\n",
    "plt.show()"
   ]
  }
 ],
 "metadata": {
  "kernelspec": {
   "display_name": "Python 3",
   "language": "python",
   "name": "python3"
  },
  "language_info": {
   "codemirror_mode": {
    "name": "ipython",
    "version": 3
   },
   "file_extension": ".py",
   "mimetype": "text/x-python",
   "name": "python",
   "nbconvert_exporter": "python",
   "pygments_lexer": "ipython3",
   "version": "3.10.12"
  }
 },
 "nbformat": 4,
 "nbformat_minor": 2
}
